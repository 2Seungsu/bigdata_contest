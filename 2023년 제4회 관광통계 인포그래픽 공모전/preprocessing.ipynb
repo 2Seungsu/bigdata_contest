{
 "cells": [
  {
   "cell_type": "code",
   "execution_count": 1,
   "id": "ff2ffbfd-0dd1-4831-98ae-1e112bf23640",
   "metadata": {},
   "outputs": [],
   "source": [
    "import pandas as pd"
   ]
  },
  {
   "cell_type": "code",
   "execution_count": 5,
   "id": "c41af438-13bb-4664-824d-cb788d74f852",
   "metadata": {},
   "outputs": [],
   "source": [
    "df2018 = pd.read_excel('./2018/0.종합_18년기준 관광사업체조사_전처리.xlsx')\n",
    "df2019 = pd.read_excel('./2019/2019년 기준 관광사업체조사_원자료_전처리.xlsx')"
   ]
  },
  {
   "cell_type": "markdown",
   "id": "04407b06-9ff1-489d-b488-477a9deb9dd9",
   "metadata": {},
   "source": [
    "### 2018"
   ]
  },
  {
   "cell_type": "code",
   "execution_count": 10,
   "id": "47b69869-789e-45c0-b483-efa0b98b1da0",
   "metadata": {},
   "outputs": [
    {
     "data": {
      "text/html": [
       "<div>\n",
       "<style scoped>\n",
       "    .dataframe tbody tr th:only-of-type {\n",
       "        vertical-align: middle;\n",
       "    }\n",
       "\n",
       "    .dataframe tbody tr th {\n",
       "        vertical-align: top;\n",
       "    }\n",
       "\n",
       "    .dataframe thead th {\n",
       "        text-align: right;\n",
       "    }\n",
       "</style>\n",
       "<table border=\"1\" class=\"dataframe\">\n",
       "  <thead>\n",
       "    <tr style=\"text-align: right;\">\n",
       "      <th></th>\n",
       "      <th>ID</th>\n",
       "      <th>Q8</th>\n",
       "      <th>Q9_1</th>\n",
       "      <th>Q9_2</th>\n",
       "    </tr>\n",
       "  </thead>\n",
       "  <tbody>\n",
       "    <tr>\n",
       "      <th>0</th>\n",
       "      <td>895</td>\n",
       "      <td>8</td>\n",
       "      <td>2</td>\n",
       "      <td>1</td>\n",
       "    </tr>\n",
       "    <tr>\n",
       "      <th>1</th>\n",
       "      <td>906</td>\n",
       "      <td>8</td>\n",
       "      <td>2</td>\n",
       "      <td>8</td>\n",
       "    </tr>\n",
       "    <tr>\n",
       "      <th>2</th>\n",
       "      <td>905</td>\n",
       "      <td>8</td>\n",
       "      <td>2</td>\n",
       "      <td>8</td>\n",
       "    </tr>\n",
       "    <tr>\n",
       "      <th>3</th>\n",
       "      <td>900</td>\n",
       "      <td>8</td>\n",
       "      <td>2</td>\n",
       "      <td>10</td>\n",
       "    </tr>\n",
       "    <tr>\n",
       "      <th>4</th>\n",
       "      <td>902</td>\n",
       "      <td>8</td>\n",
       "      <td>2</td>\n",
       "      <td>8</td>\n",
       "    </tr>\n",
       "    <tr>\n",
       "      <th>...</th>\n",
       "      <td>...</td>\n",
       "      <td>...</td>\n",
       "      <td>...</td>\n",
       "      <td>...</td>\n",
       "    </tr>\n",
       "    <tr>\n",
       "      <th>4939</th>\n",
       "      <td>701</td>\n",
       "      <td>8</td>\n",
       "      <td>1</td>\n",
       "      <td>0</td>\n",
       "    </tr>\n",
       "    <tr>\n",
       "      <th>4940</th>\n",
       "      <td>699</td>\n",
       "      <td>8</td>\n",
       "      <td>1</td>\n",
       "      <td>0</td>\n",
       "    </tr>\n",
       "    <tr>\n",
       "      <th>4941</th>\n",
       "      <td>696</td>\n",
       "      <td>8</td>\n",
       "      <td>2</td>\n",
       "      <td>6</td>\n",
       "    </tr>\n",
       "    <tr>\n",
       "      <th>4942</th>\n",
       "      <td>700</td>\n",
       "      <td>8</td>\n",
       "      <td>1</td>\n",
       "      <td>0</td>\n",
       "    </tr>\n",
       "    <tr>\n",
       "      <th>4943</th>\n",
       "      <td>604</td>\n",
       "      <td>8</td>\n",
       "      <td>2</td>\n",
       "      <td>4</td>\n",
       "    </tr>\n",
       "  </tbody>\n",
       "</table>\n",
       "<p>4944 rows × 4 columns</p>\n",
       "</div>"
      ],
      "text/plain": [
       "       ID  Q8  Q9_1  Q9_2\n",
       "0     895   8     2     1\n",
       "1     906   8     2     8\n",
       "2     905   8     2     8\n",
       "3     900   8     2    10\n",
       "4     902   8     2     8\n",
       "...   ...  ..   ...   ...\n",
       "4939  701   8     1     0\n",
       "4940  699   8     1     0\n",
       "4941  696   8     2     6\n",
       "4942  700   8     1     0\n",
       "4943  604   8     2     4\n",
       "\n",
       "[4944 rows x 4 columns]"
      ]
     },
     "execution_count": 10,
     "metadata": {},
     "output_type": "execute_result"
    }
   ],
   "source": [
    "df2018=df2018.iloc[:,:4]"
   ]
  },
  {
   "cell_type": "code",
   "execution_count": 15,
   "id": "a5d3c04b-7a5f-400d-8b6d-482889de29e9",
   "metadata": {},
   "outputs": [],
   "source": [
    "col_names = ['ID', '일일영업시간', '휴무일여부', '휴무일수']\n",
    "df2018.columns = col_names"
   ]
  },
  {
   "cell_type": "code",
   "execution_count": 23,
   "id": "33f46785-fafe-485b-86eb-21be811f2fbe",
   "metadata": {},
   "outputs": [
    {
     "data": {
      "text/plain": [
       "ID        0\n",
       "일일영업시간    0\n",
       "휴무일여부     0\n",
       "휴무일수      0\n",
       "dtype: int64"
      ]
     },
     "execution_count": 23,
     "metadata": {},
     "output_type": "execute_result"
    }
   ],
   "source": [
    "df2018.isna().sum()"
   ]
  },
  {
   "cell_type": "markdown",
   "id": "da0a590a-0d03-423f-b362-03d37be81820",
   "metadata": {},
   "source": [
    "### 2019"
   ]
  },
  {
   "cell_type": "code",
   "execution_count": 18,
   "id": "92d9e61f-88f4-49cb-b6e9-e40355a3105f",
   "metadata": {},
   "outputs": [],
   "source": [
    "col_names = ['ID', '일일영업시간', '휴무일여부', '휴무일수']\n",
    "df2019.columns = col_names"
   ]
  },
  {
   "cell_type": "code",
   "execution_count": 27,
   "id": "dafefca2-29a0-4bbc-9851-0869107822e7",
   "metadata": {},
   "outputs": [
    {
     "data": {
      "text/plain": [
       "count    2494.000000\n",
       "mean        7.107859\n",
       "std         3.065666\n",
       "min         1.000000\n",
       "25%         4.000000\n",
       "50%         8.000000\n",
       "75%         8.000000\n",
       "max        26.000000\n",
       "Name: 휴무일수, dtype: float64"
      ]
     },
     "execution_count": 27,
     "metadata": {},
     "output_type": "execute_result"
    }
   ],
   "source": [
    "df2019.휴무일수.describe()"
   ]
  },
  {
   "cell_type": "code",
   "execution_count": 28,
   "id": "3741e2cb-32b2-4850-94a0-ff7d763beca5",
   "metadata": {},
   "outputs": [],
   "source": [
    "import matplotlib.pyplot as plt"
   ]
  },
  {
   "cell_type": "code",
   "execution_count": 33,
   "id": "d2bc474e-3f7f-4723-8d86-9ab9037f0fcc",
   "metadata": {},
   "outputs": [
    {
     "data": {
      "text/plain": [
       "count    2494.000000\n",
       "mean        7.107859\n",
       "std         3.065666\n",
       "min         1.000000\n",
       "25%         4.000000\n",
       "50%         8.000000\n",
       "75%         8.000000\n",
       "max        26.000000\n",
       "Name: 휴무일수, dtype: float64"
      ]
     },
     "execution_count": 33,
     "metadata": {},
     "output_type": "execute_result"
    }
   ],
   "source": [
    "df2019.휴무일수.dropna().describe()"
   ]
  },
  {
   "cell_type": "code",
   "execution_count": 36,
   "id": "697271e6-f26d-4b5a-97f6-d60163afbafe",
   "metadata": {},
   "outputs": [],
   "source": [
    "import numpy as np"
   ]
  },
  {
   "cell_type": "code",
   "execution_count": 46,
   "id": "66f945d1-7838-4c6d-a792-02901797369f",
   "metadata": {},
   "outputs": [],
   "source": [
    "df2019['휴무일수']=df2019['휴무일수'].fillna(mode(df2019['휴무일수'].dropna())[0][0] )"
   ]
  },
  {
   "cell_type": "code",
   "execution_count": 48,
   "id": "39f07c2a-4980-44a5-a7de-64d859ab87a3",
   "metadata": {},
   "outputs": [
    {
     "data": {
      "text/plain": [
       "ID        0\n",
       "일일영업시간    0\n",
       "휴무일여부     0\n",
       "휴무일수      0\n",
       "dtype: int64"
      ]
     },
     "execution_count": 48,
     "metadata": {},
     "output_type": "execute_result"
    }
   ],
   "source": [
    "df2019.isna().sum()"
   ]
  },
  {
   "cell_type": "markdown",
   "id": "0a78a291-1102-40d9-9f84-79646da9c5d2",
   "metadata": {},
   "source": [
    "### 이상치 처리 후 저장"
   ]
  },
  {
   "cell_type": "code",
   "execution_count": 42,
   "id": "add8e9ff-f880-4da9-99f0-585c4ccb720c",
   "metadata": {},
   "outputs": [],
   "source": [
    "from scipy.stats import mode"
   ]
  },
  {
   "cell_type": "code",
   "execution_count": 45,
   "id": "443e8e0b-d782-4903-b58f-7dc7f38616e8",
   "metadata": {},
   "outputs": [
    {
     "data": {
      "text/plain": [
       "8.0"
      ]
     },
     "execution_count": 45,
     "metadata": {},
     "output_type": "execute_result"
    }
   ],
   "source": [
    "mode(df2019['휴무일수'].dropna())[0][0] "
   ]
  },
  {
   "cell_type": "code",
   "execution_count": 57,
   "id": "3a3f361a-d06c-4999-be87-586fc6e38e1f",
   "metadata": {},
   "outputs": [
    {
     "data": {
      "text/plain": [
       "3209"
      ]
     },
     "execution_count": 57,
     "metadata": {},
     "output_type": "execute_result"
    }
   ],
   "source": [
    "len(df2018[df2018.휴무일여부 == 1])"
   ]
  },
  {
   "cell_type": "code",
   "execution_count": 56,
   "id": "0cf093a8-e4f4-49e3-8533-97d85bdd6923",
   "metadata": {},
   "outputs": [
    {
     "data": {
      "text/plain": [
       "3209"
      ]
     },
     "execution_count": 56,
     "metadata": {},
     "output_type": "execute_result"
    }
   ],
   "source": [
    "sum(df2018[df2018.휴무일여부 == 1].휴무일수 == 0)"
   ]
  },
  {
   "cell_type": "code",
   "execution_count": 58,
   "id": "f738e879-8814-4333-9047-2d6febed64b1",
   "metadata": {},
   "outputs": [
    {
     "data": {
      "text/plain": [
       "3562"
      ]
     },
     "execution_count": 58,
     "metadata": {},
     "output_type": "execute_result"
    }
   ],
   "source": [
    "len(df2019[df2019.휴무일여부 == 1])"
   ]
  },
  {
   "cell_type": "code",
   "execution_count": 69,
   "id": "bf28fd2c-62a9-4d20-8346-9c9954b25155",
   "metadata": {},
   "outputs": [],
   "source": [
    "df2019_1 = df2019[df2019.휴무일여부 == 1]\n",
    "df2019_2 = df2019[df2019.휴무일여부 != 1]"
   ]
  },
  {
   "cell_type": "code",
   "execution_count": 75,
   "id": "24d1427e-308e-4b01-8b64-9b1f100ef629",
   "metadata": {},
   "outputs": [
    {
     "name": "stderr",
     "output_type": "stream",
     "text": [
      "C:\\Users\\LG\\AppData\\Local\\Temp\\ipykernel_13292\\663974521.py:1: SettingWithCopyWarning: \n",
      "A value is trying to be set on a copy of a slice from a DataFrame.\n",
      "Try using .loc[row_indexer,col_indexer] = value instead\n",
      "\n",
      "See the caveats in the documentation: https://pandas.pydata.org/pandas-docs/stable/user_guide/indexing.html#returning-a-view-versus-a-copy\n",
      "  df2019_1['휴무일수'] = 0\n"
     ]
    }
   ],
   "source": [
    "df2019_1['휴무일수'] = 0"
   ]
  },
  {
   "cell_type": "code",
   "execution_count": 79,
   "id": "89d2e5a1-f9a3-4d23-b6fe-7783cdeeeac4",
   "metadata": {},
   "outputs": [],
   "source": [
    "df2019 = pd.concat([df2019_1, df2019_2])"
   ]
  },
  {
   "cell_type": "code",
   "execution_count": 81,
   "id": "4e4b4c97-84d6-4064-b3e8-ae23f78857a2",
   "metadata": {},
   "outputs": [
    {
     "data": {
      "text/plain": [
       "3562"
      ]
     },
     "execution_count": 81,
     "metadata": {},
     "output_type": "execute_result"
    }
   ],
   "source": [
    "len(df2019[df2019.휴무일여부 == 1])"
   ]
  },
  {
   "cell_type": "code",
   "execution_count": 82,
   "id": "e48ed88c-24e2-4ad3-9b2f-c5685cd6faee",
   "metadata": {},
   "outputs": [
    {
     "data": {
      "text/plain": [
       "3562"
      ]
     },
     "execution_count": 82,
     "metadata": {},
     "output_type": "execute_result"
    }
   ],
   "source": [
    "sum(df2019[df2019.휴무일여부 == 1].휴무일수 == 0)"
   ]
  },
  {
   "cell_type": "code",
   "execution_count": 83,
   "id": "8e9fcc74-e982-4a26-b9de-818926b3368c",
   "metadata": {},
   "outputs": [],
   "source": [
    "df2018.to_excel('2018.xlsx', index=False)\n",
    "df2019.to_excel('2019.xlsx', index=False)"
   ]
  },
  {
   "cell_type": "code",
   "execution_count": null,
   "id": "3bbae46e-6b12-4b04-b216-ab4ba2e3981b",
   "metadata": {},
   "outputs": [],
   "source": []
  }
 ],
 "metadata": {
  "kernelspec": {
   "display_name": "Python 3 (ipykernel)",
   "language": "python",
   "name": "python3"
  },
  "language_info": {
   "codemirror_mode": {
    "name": "ipython",
    "version": 3
   },
   "file_extension": ".py",
   "mimetype": "text/x-python",
   "name": "python",
   "nbconvert_exporter": "python",
   "pygments_lexer": "ipython3",
   "version": "3.8.18"
  }
 },
 "nbformat": 4,
 "nbformat_minor": 5
}
