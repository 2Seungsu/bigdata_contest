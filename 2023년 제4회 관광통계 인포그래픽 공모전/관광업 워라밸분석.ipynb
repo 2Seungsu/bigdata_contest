{
 "cells": [
  {
   "cell_type": "markdown",
   "id": "00a7e457-643b-47e5-9ede-4573b0d8990f",
   "metadata": {},
   "source": [
    "### 관광업 종사자의 워라벨 분석"
   ]
  },
  {
   "cell_type": "code",
   "execution_count": 2,
   "id": "a3efdb9d",
   "metadata": {},
   "outputs": [],
   "source": [
    "import pandas as pd\n",
    "year2020 = pd.read_excel('2020.xlsx')\n",
    "year2021 = pd.read_excel('2021.xlsx')"
   ]
  },
  {
   "cell_type": "code",
   "execution_count": 5,
   "id": "8f8d80f7",
   "metadata": {
    "collapsed": true,
    "jupyter": {
     "outputs_hidden": true
    }
   },
   "outputs": [
    {
     "data": {
      "text/html": [
       "<div>\n",
       "<style scoped>\n",
       "    .dataframe tbody tr th:only-of-type {\n",
       "        vertical-align: middle;\n",
       "    }\n",
       "\n",
       "    .dataframe tbody tr th {\n",
       "        vertical-align: top;\n",
       "    }\n",
       "\n",
       "    .dataframe thead th {\n",
       "        text-align: right;\n",
       "    }\n",
       "</style>\n",
       "<table border=\"1\" class=\"dataframe\">\n",
       "  <thead>\n",
       "    <tr style=\"text-align: right;\">\n",
       "      <th></th>\n",
       "      <th>일일영업시간</th>\n",
       "      <th>휴무일여부</th>\n",
       "      <th>휴무일수</th>\n",
       "    </tr>\n",
       "  </thead>\n",
       "  <tbody>\n",
       "    <tr>\n",
       "      <th>0</th>\n",
       "      <td>8.0</td>\n",
       "      <td>2</td>\n",
       "      <td>8</td>\n",
       "    </tr>\n",
       "    <tr>\n",
       "      <th>1</th>\n",
       "      <td>8.0</td>\n",
       "      <td>2</td>\n",
       "      <td>8</td>\n",
       "    </tr>\n",
       "    <tr>\n",
       "      <th>2</th>\n",
       "      <td>8.0</td>\n",
       "      <td>2</td>\n",
       "      <td>8</td>\n",
       "    </tr>\n",
       "    <tr>\n",
       "      <th>3</th>\n",
       "      <td>8.0</td>\n",
       "      <td>2</td>\n",
       "      <td>8</td>\n",
       "    </tr>\n",
       "    <tr>\n",
       "      <th>4</th>\n",
       "      <td>8.0</td>\n",
       "      <td>2</td>\n",
       "      <td>8</td>\n",
       "    </tr>\n",
       "    <tr>\n",
       "      <th>...</th>\n",
       "      <td>...</td>\n",
       "      <td>...</td>\n",
       "      <td>...</td>\n",
       "    </tr>\n",
       "    <tr>\n",
       "      <th>9061</th>\n",
       "      <td>16.0</td>\n",
       "      <td>1</td>\n",
       "      <td>0</td>\n",
       "    </tr>\n",
       "    <tr>\n",
       "      <th>9062</th>\n",
       "      <td>24.0</td>\n",
       "      <td>1</td>\n",
       "      <td>0</td>\n",
       "    </tr>\n",
       "    <tr>\n",
       "      <th>9063</th>\n",
       "      <td>24.0</td>\n",
       "      <td>1</td>\n",
       "      <td>0</td>\n",
       "    </tr>\n",
       "    <tr>\n",
       "      <th>9064</th>\n",
       "      <td>17.0</td>\n",
       "      <td>1</td>\n",
       "      <td>0</td>\n",
       "    </tr>\n",
       "    <tr>\n",
       "      <th>9065</th>\n",
       "      <td>18.0</td>\n",
       "      <td>1</td>\n",
       "      <td>0</td>\n",
       "    </tr>\n",
       "  </tbody>\n",
       "</table>\n",
       "<p>9066 rows × 3 columns</p>\n",
       "</div>"
      ],
      "text/plain": [
       "      일일영업시간  휴무일여부  휴무일수\n",
       "0        8.0      2     8\n",
       "1        8.0      2     8\n",
       "2        8.0      2     8\n",
       "3        8.0      2     8\n",
       "4        8.0      2     8\n",
       "...      ...    ...   ...\n",
       "9061    16.0      1     0\n",
       "9062    24.0      1     0\n",
       "9063    24.0      1     0\n",
       "9064    17.0      1     0\n",
       "9065    18.0      1     0\n",
       "\n",
       "[9066 rows x 3 columns]"
      ]
     },
     "execution_count": 5,
     "metadata": {},
     "output_type": "execute_result"
    }
   ],
   "source": [
    "year2020"
   ]
  },
  {
   "cell_type": "code",
   "execution_count": 6,
   "id": "9b51736f",
   "metadata": {
    "collapsed": true,
    "jupyter": {
     "outputs_hidden": true
    }
   },
   "outputs": [
    {
     "data": {
      "text/html": [
       "<div>\n",
       "<style scoped>\n",
       "    .dataframe tbody tr th:only-of-type {\n",
       "        vertical-align: middle;\n",
       "    }\n",
       "\n",
       "    .dataframe tbody tr th {\n",
       "        vertical-align: top;\n",
       "    }\n",
       "\n",
       "    .dataframe thead th {\n",
       "        text-align: right;\n",
       "    }\n",
       "</style>\n",
       "<table border=\"1\" class=\"dataframe\">\n",
       "  <thead>\n",
       "    <tr style=\"text-align: right;\">\n",
       "      <th></th>\n",
       "      <th>일일영업시간</th>\n",
       "      <th>휴무일여부</th>\n",
       "      <th>휴무일수</th>\n",
       "    </tr>\n",
       "  </thead>\n",
       "  <tbody>\n",
       "    <tr>\n",
       "      <th>0</th>\n",
       "      <td>8</td>\n",
       "      <td>2</td>\n",
       "      <td>8</td>\n",
       "    </tr>\n",
       "    <tr>\n",
       "      <th>1</th>\n",
       "      <td>8</td>\n",
       "      <td>2</td>\n",
       "      <td>8</td>\n",
       "    </tr>\n",
       "    <tr>\n",
       "      <th>2</th>\n",
       "      <td>8</td>\n",
       "      <td>2</td>\n",
       "      <td>30</td>\n",
       "    </tr>\n",
       "    <tr>\n",
       "      <th>3</th>\n",
       "      <td>8</td>\n",
       "      <td>2</td>\n",
       "      <td>8</td>\n",
       "    </tr>\n",
       "    <tr>\n",
       "      <th>4</th>\n",
       "      <td>8</td>\n",
       "      <td>2</td>\n",
       "      <td>8</td>\n",
       "    </tr>\n",
       "    <tr>\n",
       "      <th>...</th>\n",
       "      <td>...</td>\n",
       "      <td>...</td>\n",
       "      <td>...</td>\n",
       "    </tr>\n",
       "    <tr>\n",
       "      <th>12871</th>\n",
       "      <td>7</td>\n",
       "      <td>1</td>\n",
       "      <td>0</td>\n",
       "    </tr>\n",
       "    <tr>\n",
       "      <th>12872</th>\n",
       "      <td>7</td>\n",
       "      <td>1</td>\n",
       "      <td>0</td>\n",
       "    </tr>\n",
       "    <tr>\n",
       "      <th>12873</th>\n",
       "      <td>6</td>\n",
       "      <td>1</td>\n",
       "      <td>0</td>\n",
       "    </tr>\n",
       "    <tr>\n",
       "      <th>12874</th>\n",
       "      <td>7</td>\n",
       "      <td>1</td>\n",
       "      <td>0</td>\n",
       "    </tr>\n",
       "    <tr>\n",
       "      <th>12875</th>\n",
       "      <td>6</td>\n",
       "      <td>1</td>\n",
       "      <td>0</td>\n",
       "    </tr>\n",
       "  </tbody>\n",
       "</table>\n",
       "<p>12876 rows × 3 columns</p>\n",
       "</div>"
      ],
      "text/plain": [
       "       일일영업시간  휴무일여부  휴무일수\n",
       "0           8      2     8\n",
       "1           8      2     8\n",
       "2           8      2    30\n",
       "3           8      2     8\n",
       "4           8      2     8\n",
       "...       ...    ...   ...\n",
       "12871       7      1     0\n",
       "12872       7      1     0\n",
       "12873       6      1     0\n",
       "12874       7      1     0\n",
       "12875       6      1     0\n",
       "\n",
       "[12876 rows x 3 columns]"
      ]
     },
     "execution_count": 6,
     "metadata": {},
     "output_type": "execute_result"
    }
   ],
   "source": [
    "year2021"
   ]
  },
  {
   "cell_type": "code",
   "execution_count": 3,
   "id": "8f9978a7",
   "metadata": {},
   "outputs": [],
   "source": [
    "import seaborn as sns\n",
    "import matplotlib.pyplot as plt\n",
    "import koreanize_matplotlib"
   ]
  },
  {
   "cell_type": "markdown",
   "id": "04b2fe16-66a4-4a89-b88f-6112d8c84781",
   "metadata": {},
   "source": [
    "### 시각화"
   ]
  },
  {
   "cell_type": "code",
   "execution_count": 5,
   "id": "5a93355a",
   "metadata": {},
   "outputs": [],
   "source": [
    "year2020_worktime = year2020['일일영업시간'][year2020['일일영업시간'] != 24].mean()\n",
    "year2021_worktime = year2021['일일영업시간'][year2021['일일영업시간'] != 24].mean()\n",
    "\n",
    "year2020_holyday = year2020['휴무일수'].mean()\n",
    "year2021_holyday = year2021['휴무일수'].mean()"
   ]
  },
  {
   "cell_type": "code",
   "execution_count": 6,
   "id": "69ad7b95",
   "metadata": {
    "scrolled": true
   },
   "outputs": [],
   "source": [
    "data = pd.DataFrame({'2020' : [year2020_worktime, year2020_holyday],\n",
    "             '2021' : [year2021_worktime, year2021_holyday]},\n",
    "            index = ['일일영업시간','휴무일수'])"
   ]
  },
  {
   "cell_type": "code",
   "execution_count": 7,
   "id": "78921e19",
   "metadata": {},
   "outputs": [
    {
     "data": {
      "text/html": [
       "<div>\n",
       "<style scoped>\n",
       "    .dataframe tbody tr th:only-of-type {\n",
       "        vertical-align: middle;\n",
       "    }\n",
       "\n",
       "    .dataframe tbody tr th {\n",
       "        vertical-align: top;\n",
       "    }\n",
       "\n",
       "    .dataframe thead th {\n",
       "        text-align: right;\n",
       "    }\n",
       "</style>\n",
       "<table border=\"1\" class=\"dataframe\">\n",
       "  <thead>\n",
       "    <tr style=\"text-align: right;\">\n",
       "      <th></th>\n",
       "      <th>2020</th>\n",
       "      <th>2021</th>\n",
       "    </tr>\n",
       "  </thead>\n",
       "  <tbody>\n",
       "    <tr>\n",
       "      <th>일일영업시간</th>\n",
       "      <td>9.004862</td>\n",
       "      <td>8.668089</td>\n",
       "    </tr>\n",
       "    <tr>\n",
       "      <th>휴무일수</th>\n",
       "      <td>2.678469</td>\n",
       "      <td>2.820596</td>\n",
       "    </tr>\n",
       "  </tbody>\n",
       "</table>\n",
       "</div>"
      ],
      "text/plain": [
       "            2020      2021\n",
       "일일영업시간  9.004862  8.668089\n",
       "휴무일수    2.678469  2.820596"
      ]
     },
     "execution_count": 7,
     "metadata": {},
     "output_type": "execute_result"
    }
   ],
   "source": [
    "data"
   ]
  },
  {
   "cell_type": "code",
   "execution_count": 8,
   "id": "93c58775",
   "metadata": {},
   "outputs": [
    {
     "data": {
      "image/png": "[encoded data removed]",
      "text/plain": [
       "<Figure size 640x480 with 1 Axes>"
      ]
     },
     "metadata": {},
     "output_type": "display_data"
    }
   ],
   "source": [
    "# Plot the bar graph\n",
    "plt.bar(data.columns, data.iloc[1], color=['lightgray','lightcoral'], label = [2020,2021])\n",
    "\n",
    "# Customize the plot\n",
    "plt.xlabel('년도')\n",
    "plt.ylabel('일수')\n",
    "plt.title('평균 휴무일수')\n",
    "plt.ylim(2.0,3.0)  # Rotate x-axis labels if needed\n",
    "plt.legend()\n",
    "# plt.grid()\n",
    "plt.show()"
   ]
  },
  {
   "cell_type": "code",
   "execution_count": 9,
   "id": "67232145",
   "metadata": {},
   "outputs": [
    {
     "data": {
      "image/png": "[encoded data removed]",
      "text/plain": [
       "<Figure size 640x480 with 1 Axes>"
      ]
     },
     "metadata": {},
     "output_type": "display_data"
    }
   ],
   "source": [
    "# Plot the bar graph\n",
    "plt.bar(data.columns, data.iloc[0], color=['lightgray','skyblue'], label = [2020,2021])\n",
    "\n",
    "# Customize the plot\n",
    "plt.xlabel('년도')\n",
    "plt.ylabel('시간')\n",
    "plt.title('평균 일일영업시간')\n",
    "plt.ylim(8.2,9.2)  # Rotate x-axis labels if needed\n",
    "plt.legend()\n",
    "# plt.grid()\n",
    "plt.show()"
   ]
  },
  {
   "cell_type": "code",
   "execution_count": 10,
   "id": "9746596a",
   "metadata": {},
   "outputs": [],
   "source": [
    "year2018 = pd.read_excel('2018.xlsx')\n",
    "year2019 = pd.read_excel('2019.xlsx')"
   ]
  },
  {
   "cell_type": "code",
   "execution_count": 11,
   "id": "a949dc45",
   "metadata": {},
   "outputs": [],
   "source": [
    "year2018_worktime = year2018['일일영업시간'][year2018['일일영업시간'] != 24].mean()\n",
    "year2019_worktime = year2019['일일영업시간'][year2019['일일영업시간'] != 24].mean()\n",
    "\n",
    "year2018_holyday = year2018['휴무일수'].mean()\n",
    "year2019_holyday = year2019['휴무일수'].mean()"
   ]
  },
  {
   "cell_type": "code",
   "execution_count": 12,
   "id": "b572beb7",
   "metadata": {},
   "outputs": [],
   "source": [
    "data = pd.DataFrame({'2018' : [year2018_worktime, year2018_holyday],\n",
    "             '2019' : [year2019_worktime, year2019_holyday]},\n",
    "            index = ['일일영업시간','휴무일수'])"
   ]
  },
  {
   "cell_type": "code",
   "execution_count": 13,
   "id": "c74cd259-386e-4345-9c22-49d107386355",
   "metadata": {},
   "outputs": [
    {
     "data": {
      "image/png": "[encoded data removed]",
      "text/plain": [
       "<Figure size 640x480 with 1 Axes>"
      ]
     },
     "metadata": {},
     "output_type": "display_data"
    }
   ],
   "source": [
    "# Plot the bar graph\n",
    "plt.bar(data.columns, data.iloc[1], color=['lightgray','lightcoral'], label = [2018,2019])\n",
    "\n",
    "# Customize the plot\n",
    "plt.xlabel('년도')\n",
    "plt.ylabel('일수')\n",
    "plt.title('평균 휴무일수')\n",
    "plt.ylim(2.2,3.2)  # Rotate x-axis labels if needed\n",
    "plt.legend()\n",
    "# plt.grid()\n",
    "plt.show()"
   ]
  },
  {
   "cell_type": "code",
   "execution_count": 14,
   "id": "4732773e-d2ac-4d7a-97aa-2140c9e29ac3",
   "metadata": {},
   "outputs": [
    {
     "data": {
      "image/png": "[encoded data removed]",
      "text/plain": [
       "<Figure size 640x480 with 1 Axes>"
      ]
     },
     "metadata": {},
     "output_type": "display_data"
    }
   ],
   "source": [
    "# Plot the bar graph\n",
    "plt.bar(data.columns, data.iloc[0], color=['lightgray','skyblue'], label = [2018,2019])\n",
    "\n",
    "# Customize the plot\n",
    "plt.xlabel('년도')\n",
    "plt.ylabel('시간')\n",
    "plt.title('평균 일일영업시간')\n",
    "plt.ylim(8.5,9.5)  # Rotate x-axis labels if needed\n",
    "plt.legend()\n",
    "# plt.grid()\n",
    "plt.show()"
   ]
  },
  {
   "cell_type": "code",
   "execution_count": 15,
   "id": "4464287f-b15c-4321-8146-f75274a08461",
   "metadata": {},
   "outputs": [],
   "source": [
    "data = pd.DataFrame({'2018' : [year2018_worktime, year2018_holyday]\n",
    "            ,'2019' : [year2019_worktime, year2019_holyday]\n",
    "            ,'2020' : [year2020_worktime, year2020_holyday],\n",
    "             '2021' : [year2021_worktime, year2021_holyday]},\n",
    "            index = ['일일영업시간','휴무일수'])"
   ]
  },
  {
   "cell_type": "code",
   "execution_count": 16,
   "id": "d0ede5d1-563d-424f-8199-02c10b61eb25",
   "metadata": {},
   "outputs": [
    {
     "data": {
      "text/html": [
       "<div>\n",
       "<style scoped>\n",
       "    .dataframe tbody tr th:only-of-type {\n",
       "        vertical-align: middle;\n",
       "    }\n",
       "\n",
       "    .dataframe tbody tr th {\n",
       "        vertical-align: top;\n",
       "    }\n",
       "\n",
       "    .dataframe thead th {\n",
       "        text-align: right;\n",
       "    }\n",
       "</style>\n",
       "<table border=\"1\" class=\"dataframe\">\n",
       "  <thead>\n",
       "    <tr style=\"text-align: right;\">\n",
       "      <th></th>\n",
       "      <th>2018</th>\n",
       "      <th>2019</th>\n",
       "      <th>2020</th>\n",
       "      <th>2021</th>\n",
       "    </tr>\n",
       "  </thead>\n",
       "  <tbody>\n",
       "    <tr>\n",
       "      <th>일일영업시간</th>\n",
       "      <td>9.447409</td>\n",
       "      <td>9.137001</td>\n",
       "      <td>9.004862</td>\n",
       "      <td>8.668089</td>\n",
       "    </tr>\n",
       "    <tr>\n",
       "      <th>휴무일수</th>\n",
       "      <td>2.463592</td>\n",
       "      <td>2.991686</td>\n",
       "      <td>2.678469</td>\n",
       "      <td>2.820596</td>\n",
       "    </tr>\n",
       "  </tbody>\n",
       "</table>\n",
       "</div>"
      ],
      "text/plain": [
       "            2018      2019      2020      2021\n",
       "일일영업시간  9.447409  9.137001  9.004862  8.668089\n",
       "휴무일수    2.463592  2.991686  2.678469  2.820596"
      ]
     },
     "execution_count": 16,
     "metadata": {},
     "output_type": "execute_result"
    }
   ],
   "source": [
    "data"
   ]
  },
  {
   "cell_type": "code",
   "execution_count": 77,
   "id": "1ef25378-ec05-4713-abc4-a9f83f46c37e",
   "metadata": {},
   "outputs": [
    {
     "data": {
      "image/png": "[encoded data removed]",
      "text/plain": [
       "<Figure size 640x480 with 1 Axes>"
      ]
     },
     "metadata": {},
     "output_type": "display_data"
    }
   ],
   "source": [
    "# Plot the bar graph\n",
    "plt.bar(data.columns, data.iloc[1], color=['lightgray','lightgray','lightgray','lightcoral'])\n",
    "\n",
    "plt.plot(data.columns, data.iloc[1], marker='o', linestyle='-', color='black')\n",
    "\n",
    "# Customize the plot\n",
    "plt.xlabel('년도')\n",
    "plt.ylabel('일수')\n",
    "plt.title('평균 휴무일수')\n",
    "plt.ylim(2, 3.5)  # Rotate x-axis labels if needed\n",
    "#plt.legend()\n",
    "# plt.grid()\n",
    "plt.show()"
   ]
  },
  {
   "cell_type": "code",
   "execution_count": 78,
   "id": "cda8b1ad-52fa-4391-b950-73015494688f",
   "metadata": {},
   "outputs": [
    {
     "data": {
      "image/png": "[encoded data removed]",
      "text/plain": [
       "<Figure size 640x480 with 1 Axes>"
      ]
     },
     "metadata": {},
     "output_type": "display_data"
    }
   ],
   "source": [
    "# Plot the bar graph\n",
    "plt.bar(data.columns, data.iloc[0], color=['lightgray','lightgray','lightgray','skyblue'])\n",
    "\n",
    "plt.plot(data.columns, data.iloc[0], marker='o', linestyle='-', color='black')\n",
    "\n",
    "# Customize the plot\n",
    "plt.xlabel('년도')\n",
    "plt.ylabel('일수')\n",
    "plt.title('평균 일일영업일수')\n",
    "plt.ylim(8, 10)  # Rotate x-axis labels if needed\n",
    "#plt.legend()\n",
    "# plt.grid()\n",
    "plt.show()"
   ]
  }
 ],
 "metadata": {
  "kernelspec": {
   "display_name": "Python 3 (ipykernel)",
   "language": "python",
   "name": "python3"
  },
  "language_info": {
   "codemirror_mode": {
    "name": "ipython",
    "version": 3
   },
   "file_extension": ".py",
   "mimetype": "text/x-python",
   "name": "python",
   "nbconvert_exporter": "python",
   "pygments_lexer": "ipython3",
   "version": "3.8.18"
  }
 },
 "nbformat": 4,
 "nbformat_minor": 5
}
