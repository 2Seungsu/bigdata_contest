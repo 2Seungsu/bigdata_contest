{
 "cells": [
  {
   "cell_type": "code",
   "execution_count": 2,
   "id": "f2176fe7",
   "metadata": {},
   "outputs": [],
   "source": [
    "import pandas as pd\n",
    "import matplotlib.pyplot as plt"
   ]
  },
  {
   "cell_type": "markdown",
   "id": "1ac6f1f9-ce74-4d47-b93a-6559130df4df",
   "metadata": {},
   "source": [
    "### 관광업 휴무일, 영업시간"
   ]
  },
  {
   "cell_type": "code",
   "execution_count": 2,
   "id": "03428d04",
   "metadata": {},
   "outputs": [],
   "source": [
    "year2020_1 = pd.read_excel('2020년관광산업특수분류.xlsx')\n",
    "year2020_2 = pd.read_excel('2020년관광진흥법기준.xlsx')\n",
    "\n",
    "year2021_1 = pd.read_excel('2021년관광산업관광진흥법기준 .xlsx')\n",
    "year2021_2 = pd.read_excel('2021년관광산업특수분류기준.xlsx')"
   ]
  },
  {
   "cell_type": "code",
   "execution_count": 37,
   "id": "f9f9c6c5",
   "metadata": {},
   "outputs": [],
   "source": [
    "year2020_11 = year2020_1[['Q8_2','Q8_3_1','Q8_3_2']] #이상치 없음\n",
    "year2020_22 = year2020_2[['Q8_2','Q8_3_1','Q8_3_2']] # 이상치 5812,5813\n",
    "\n",
    "year2021_11 = year2021_1[['Q8_2','Q8_3_1','Q8_3_2']]\n",
    "year2021_22 = year2021_2[['Q8_2','Q8_3_1','Q8_3_2']]"
   ]
  },
  {
   "cell_type": "code",
   "execution_count": 51,
   "id": "1355dacf",
   "metadata": {},
   "outputs": [],
   "source": [
    "# 휴무일 여부  1 없음  , 2 있음  , 3 모름\n",
    "year2020_11 = year2020_11.rename(columns={'Q8_2': '일일영업시간','Q8_3_1':'휴무일여부', 'Q8_3_2':'휴무일수'})\n",
    "year2020_22 = year2020_22.rename(columns={'Q8_2': '일일영업시간','Q8_3_1':'휴무일여부', 'Q8_3_2':'휴무일수'})\n",
    "year2021_11 = year2021_11.rename(columns={'Q8_2': '일일영업시간','Q8_3_1':'휴무일여부', 'Q8_3_2':'휴무일수'})\n",
    "year2021_22 = year2021_22.rename(columns={'Q8_2': '일일영업시간','Q8_3_1':'휴무일여부', 'Q8_3_2':'휴무일수'})"
   ]
  },
  {
   "cell_type": "code",
   "execution_count": 94,
   "id": "bd71511c",
   "metadata": {
    "collapsed": true,
    "jupyter": {
     "outputs_hidden": true
    }
   },
   "outputs": [
    {
     "data": {
      "text/html": [
       "<div>\n",
       "<style scoped>\n",
       "    .dataframe tbody tr th:only-of-type {\n",
       "        vertical-align: middle;\n",
       "    }\n",
       "\n",
       "    .dataframe tbody tr th {\n",
       "        vertical-align: top;\n",
       "    }\n",
       "\n",
       "    .dataframe thead th {\n",
       "        text-align: right;\n",
       "    }\n",
       "</style>\n",
       "<table border=\"1\" class=\"dataframe\">\n",
       "  <thead>\n",
       "    <tr style=\"text-align: right;\">\n",
       "      <th></th>\n",
       "      <th>일일영업시간</th>\n",
       "      <th>휴무일여부</th>\n",
       "      <th>휴무일수</th>\n",
       "    </tr>\n",
       "  </thead>\n",
       "  <tbody>\n",
       "    <tr>\n",
       "      <th>0</th>\n",
       "      <td>8</td>\n",
       "      <td>2</td>\n",
       "      <td>8</td>\n",
       "    </tr>\n",
       "    <tr>\n",
       "      <th>1</th>\n",
       "      <td>8</td>\n",
       "      <td>2</td>\n",
       "      <td>8</td>\n",
       "    </tr>\n",
       "    <tr>\n",
       "      <th>2</th>\n",
       "      <td>8</td>\n",
       "      <td>2</td>\n",
       "      <td>30</td>\n",
       "    </tr>\n",
       "    <tr>\n",
       "      <th>3</th>\n",
       "      <td>8</td>\n",
       "      <td>2</td>\n",
       "      <td>8</td>\n",
       "    </tr>\n",
       "    <tr>\n",
       "      <th>4</th>\n",
       "      <td>8</td>\n",
       "      <td>2</td>\n",
       "      <td>8</td>\n",
       "    </tr>\n",
       "    <tr>\n",
       "      <th>...</th>\n",
       "      <td>...</td>\n",
       "      <td>...</td>\n",
       "      <td>...</td>\n",
       "    </tr>\n",
       "    <tr>\n",
       "      <th>7200</th>\n",
       "      <td>8</td>\n",
       "      <td>2</td>\n",
       "      <td>4</td>\n",
       "    </tr>\n",
       "    <tr>\n",
       "      <th>7206</th>\n",
       "      <td>9</td>\n",
       "      <td>2</td>\n",
       "      <td>8</td>\n",
       "    </tr>\n",
       "    <tr>\n",
       "      <th>7207</th>\n",
       "      <td>10</td>\n",
       "      <td>2</td>\n",
       "      <td>4</td>\n",
       "    </tr>\n",
       "    <tr>\n",
       "      <th>7208</th>\n",
       "      <td>10</td>\n",
       "      <td>2</td>\n",
       "      <td>4</td>\n",
       "    </tr>\n",
       "    <tr>\n",
       "      <th>7210</th>\n",
       "      <td>9</td>\n",
       "      <td>2</td>\n",
       "      <td>8</td>\n",
       "    </tr>\n",
       "  </tbody>\n",
       "</table>\n",
       "<p>3555 rows × 3 columns</p>\n",
       "</div>"
      ],
      "text/plain": [
       "      일일영업시간  휴무일여부  휴무일수\n",
       "0          8      2     8\n",
       "1          8      2     8\n",
       "2          8      2    30\n",
       "3          8      2     8\n",
       "4          8      2     8\n",
       "...      ...    ...   ...\n",
       "7200       8      2     4\n",
       "7206       9      2     8\n",
       "7207      10      2     4\n",
       "7208      10      2     4\n",
       "7210       9      2     8\n",
       "\n",
       "[3555 rows x 3 columns]"
      ]
     },
     "execution_count": 94,
     "metadata": {},
     "output_type": "execute_result"
    }
   ],
   "source": [
    "year2021_11[(year2021_11['휴무일여부'] == 2) & (year2021_11['휴무일수'] >= 1)]"
   ]
  },
  {
   "cell_type": "code",
   "execution_count": 101,
   "id": "9b16b7bb",
   "metadata": {},
   "outputs": [],
   "source": [
    "year2020_11.to_excel('2020_특수.xlsx', index=False)\n",
    "year2020_22.to_excel('2020_진흥법.xlsx', index=False)\n",
    "year2021_11.to_excel('2021_진흥법.xlsx', index=False)\n",
    "year2021_22.to_excel('2021_특수.xlsx', index=False)"
   ]
  },
  {
   "cell_type": "markdown",
   "id": "f0e48e00-838b-4447-98d6-7fdf93704b86",
   "metadata": {},
   "source": [
    "### 휴무일, 영업시간"
   ]
  },
  {
   "cell_type": "code",
   "execution_count": 73,
   "id": "1d7d66f6",
   "metadata": {},
   "outputs": [
    {
     "data": {
      "text/plain": [
       "<Axes: >"
      ]
     },
     "execution_count": 73,
     "metadata": {},
     "output_type": "execute_result"
    },
    {
     "data": {
      "image/png": "[encoded data removed]",
      "text/plain": [
       "<Figure size 640x480 with 1 Axes>"
      ]
     },
     "metadata": {},
     "output_type": "display_data"
    }
   ],
   "source": [
    "import koreanize_matplotlib\n",
    "year2020_11['일일영업시간'].plot.box()"
   ]
  },
  {
   "cell_type": "code",
   "execution_count": 3,
   "id": "362ea03e",
   "metadata": {},
   "outputs": [],
   "source": [
    "year2020_1 = pd.read_excel('2020년 기준 관광산업조사 DATA_PART2_관광산업특수분류 기준.xlsx')\n",
    "year2021_1 = pd.read_excel('2021년 기준 관광산업조사 DATA PART2 관광산업특수분류 기준.xlsx')"
   ]
  },
  {
   "cell_type": "code",
   "execution_count": 4,
   "id": "9e44281e",
   "metadata": {},
   "outputs": [],
   "source": [
    "year2020_11 = year2020_1[['TYPE_2','H1_1','H1_2','H1_3','H1_4','H1_5','H1_6','H1_7','H1_8','Q8_2','Q8_3_1','Q8_3_2','Q10_3']] #이상치 없음\n",
    "year2021_11 = year2021_1[['TYPE_2','H1_1','H1_2','H1_3','H1_4','H1_5','H1_6','H1_7','H1_8','Q8_2','Q8_3_1','Q8_3_2','Q10_3']] #이상치 없음"
   ]
  },
  {
   "cell_type": "code",
   "execution_count": 6,
   "id": "683b5131",
   "metadata": {},
   "outputs": [
    {
     "data": {
      "text/plain": [
       "TYPE_2\n",
       "6    0.189499\n",
       "8    0.138209\n",
       "7    0.048643\n",
       "5    0.045445\n",
       "3    0.033973\n",
       "2    0.027686\n",
       "4    0.026803\n",
       "1    0.022281\n",
       "9    0.000772\n",
       "Name: count, dtype: float64"
      ]
     },
     "execution_count": 6,
     "metadata": {},
     "output_type": "execute_result"
    }
   ],
   "source": [
    "year2020_11[year2020_11['Q8_2'] != 24]['TYPE_2'].value_counts()/len(year2020_11)   # 4번 관광숙박업, 3번 관광객이용시설업"
   ]
  },
  {
   "cell_type": "code",
   "execution_count": 7,
   "id": "342467b4",
   "metadata": {},
   "outputs": [
    {
     "data": {
      "text/plain": [
       "TYPE_2\n",
       "4    0.327742\n",
       "8    0.106322\n",
       "3    0.091876\n",
       "6    0.035492\n",
       "5    0.030056\n",
       "2    0.027105\n",
       "1    0.013358\n",
       "7    0.010951\n",
       "9    0.001243\n",
       "Name: count, dtype: float64"
      ]
     },
     "execution_count": 7,
     "metadata": {},
     "output_type": "execute_result"
    }
   ],
   "source": [
    "year2021_11[year2021_11['Q8_2'] >= 9]['TYPE_2'].value_counts()/len(year2021_11)   # 4번 관광숙박업, 3번 관광객이용시설업"
   ]
  },
  {
   "cell_type": "markdown",
   "id": "cb305e9d-e3fa-49e7-b7aa-61ea7ed17946",
   "metadata": {},
   "source": [
    "### 관광업 매출액 분석"
   ]
  },
  {
   "cell_type": "code",
   "execution_count": 10,
   "id": "6ccd7bd5",
   "metadata": {},
   "outputs": [],
   "source": [
    "import numpy as np"
   ]
  },
  {
   "cell_type": "code",
   "execution_count": 11,
   "id": "389e130b",
   "metadata": {},
   "outputs": [
    {
     "name": "stderr",
     "output_type": "stream",
     "text": [
      "C:\\Users\\User\\AppData\\Local\\Temp\\ipykernel_11812\\1509577875.py:1: FutureWarning: The provided callable <function mean at 0x000001BD08A43820> is currently using SeriesGroupBy.mean. In a future version of pandas, the provided callable will be used directly. To keep current behavior pass the string \"mean\" instead.\n",
      "  y2021 = year2021_11[year2021_11['Q8_2'] != 24].groupby('TYPE_2').agg({'Q8_2':np.mean, 'Q10_3':np.mean}).sort_values(by='Q8_2')\n"
     ]
    }
   ],
   "source": [
    "y2021 = year2021_11[year2021_11['Q8_2'] != 24].groupby('TYPE_2').agg({'Q8_2':np.mean, 'Q10_3':np.mean}).sort_values(by='Q8_2')"
   ]
  },
  {
   "cell_type": "code",
   "execution_count": 12,
   "id": "b7bb9d11",
   "metadata": {},
   "outputs": [
    {
     "name": "stderr",
     "output_type": "stream",
     "text": [
      "C:\\Users\\User\\AppData\\Local\\Temp\\ipykernel_11812\\1151813236.py:1: FutureWarning: The provided callable <function mean at 0x000001BD08A43820> is currently using SeriesGroupBy.mean. In a future version of pandas, the provided callable will be used directly. To keep current behavior pass the string \"mean\" instead.\n",
      "  y2020 = year2020_11[year2020_11['Q8_2'] != 24].groupby('TYPE_2').agg({'Q8_2':np.mean, 'Q10_3':np.mean}).sort_values(by='Q8_2')\n"
     ]
    }
   ],
   "source": [
    "y2020 = year2020_11[year2020_11['Q8_2'] != 24].groupby('TYPE_2').agg({'Q8_2':np.mean, 'Q10_3':np.mean}).sort_values(by='Q8_2')"
   ]
  },
  {
   "cell_type": "code",
   "execution_count": 108,
   "id": "82371885",
   "metadata": {},
   "outputs": [
    {
     "name": "stderr",
     "output_type": "stream",
     "text": [
      "C:\\Users\\User\\AppData\\Local\\Temp\\ipykernel_11812\\187672551.py:1: FutureWarning: The provided callable <function mean at 0x000001BD08A43820> is currently using SeriesGroupBy.mean. In a future version of pandas, the provided callable will be used directly. To keep current behavior pass the string \"mean\" instead.\n",
      "  year2021_11[year2021_11['Q8_2'] != 24].groupby('TYPE_2').agg({'Q8_2':np.mean, 'Q10_3':np.mean}).sort_values(by='Q8_2')\n"
     ]
    },
    {
     "data": {
      "text/html": [
       "<div>\n",
       "<style scoped>\n",
       "    .dataframe tbody tr th:only-of-type {\n",
       "        vertical-align: middle;\n",
       "    }\n",
       "\n",
       "    .dataframe tbody tr th {\n",
       "        vertical-align: top;\n",
       "    }\n",
       "\n",
       "    .dataframe thead th {\n",
       "        text-align: right;\n",
       "    }\n",
       "</style>\n",
       "<table border=\"1\" class=\"dataframe\">\n",
       "  <thead>\n",
       "    <tr style=\"text-align: right;\">\n",
       "      <th></th>\n",
       "      <th>Q8_2</th>\n",
       "      <th>Q10_3</th>\n",
       "    </tr>\n",
       "    <tr>\n",
       "      <th>TYPE_2</th>\n",
       "      <th></th>\n",
       "      <th></th>\n",
       "    </tr>\n",
       "  </thead>\n",
       "  <tbody>\n",
       "    <tr>\n",
       "      <th>6</th>\n",
       "      <td>7.636167</td>\n",
       "      <td>60.849089</td>\n",
       "    </tr>\n",
       "    <tr>\n",
       "      <th>7</th>\n",
       "      <td>8.067974</td>\n",
       "      <td>691.324183</td>\n",
       "    </tr>\n",
       "    <tr>\n",
       "      <th>1</th>\n",
       "      <td>8.603030</td>\n",
       "      <td>30107.600000</td>\n",
       "    </tr>\n",
       "    <tr>\n",
       "      <th>8</th>\n",
       "      <td>8.816506</td>\n",
       "      <td>1655.486831</td>\n",
       "    </tr>\n",
       "    <tr>\n",
       "      <th>5</th>\n",
       "      <td>9.191489</td>\n",
       "      <td>613.697872</td>\n",
       "    </tr>\n",
       "    <tr>\n",
       "      <th>4</th>\n",
       "      <td>9.283708</td>\n",
       "      <td>647.078652</td>\n",
       "    </tr>\n",
       "    <tr>\n",
       "      <th>3</th>\n",
       "      <td>9.923977</td>\n",
       "      <td>1197.742690</td>\n",
       "    </tr>\n",
       "    <tr>\n",
       "      <th>2</th>\n",
       "      <td>11.088099</td>\n",
       "      <td>10275.698609</td>\n",
       "    </tr>\n",
       "    <tr>\n",
       "      <th>9</th>\n",
       "      <td>16.375000</td>\n",
       "      <td>117302.500000</td>\n",
       "    </tr>\n",
       "  </tbody>\n",
       "</table>\n",
       "</div>"
      ],
      "text/plain": [
       "             Q8_2          Q10_3\n",
       "TYPE_2                          \n",
       "6        7.636167      60.849089\n",
       "7        8.067974     691.324183\n",
       "1        8.603030   30107.600000\n",
       "8        8.816506    1655.486831\n",
       "5        9.191489     613.697872\n",
       "4        9.283708     647.078652\n",
       "3        9.923977    1197.742690\n",
       "2       11.088099   10275.698609\n",
       "9       16.375000  117302.500000"
      ]
     },
     "execution_count": 108,
     "metadata": {},
     "output_type": "execute_result"
    }
   ],
   "source": [
    "year2021_11[year2021_11['Q8_2'] != 24].groupby('TYPE_2').agg({'Q8_2':np.mean, 'Q10_3':np.mean}).sort_values(by='Q8_2')"
   ]
  },
  {
   "cell_type": "code",
   "execution_count": 109,
   "id": "d81dc90e",
   "metadata": {},
   "outputs": [
    {
     "name": "stderr",
     "output_type": "stream",
     "text": [
      "C:\\Users\\User\\AppData\\Local\\Temp\\ipykernel_11812\\3374464940.py:1: FutureWarning: The provided callable <function mean at 0x000001BD08A43820> is currently using SeriesGroupBy.mean. In a future version of pandas, the provided callable will be used directly. To keep current behavior pass the string \"mean\" instead.\n",
      "  year2020_11[year2020_11['Q8_2'] != 24].groupby('TYPE_2').agg({'Q8_2':np.mean, 'Q10_3':np.mean}).sort_values(by='Q8_2')\n"
     ]
    },
    {
     "data": {
      "text/html": [
       "<div>\n",
       "<style scoped>\n",
       "    .dataframe tbody tr th:only-of-type {\n",
       "        vertical-align: middle;\n",
       "    }\n",
       "\n",
       "    .dataframe tbody tr th {\n",
       "        vertical-align: top;\n",
       "    }\n",
       "\n",
       "    .dataframe thead th {\n",
       "        text-align: right;\n",
       "    }\n",
       "</style>\n",
       "<table border=\"1\" class=\"dataframe\">\n",
       "  <thead>\n",
       "    <tr style=\"text-align: right;\">\n",
       "      <th></th>\n",
       "      <th>Q8_2</th>\n",
       "      <th>Q10_3</th>\n",
       "    </tr>\n",
       "    <tr>\n",
       "      <th>TYPE_2</th>\n",
       "      <th></th>\n",
       "      <th></th>\n",
       "    </tr>\n",
       "  </thead>\n",
       "  <tbody>\n",
       "    <tr>\n",
       "      <th>6</th>\n",
       "      <td>7.930442</td>\n",
       "      <td>204.121653</td>\n",
       "    </tr>\n",
       "    <tr>\n",
       "      <th>7</th>\n",
       "      <td>8.197279</td>\n",
       "      <td>633.317460</td>\n",
       "    </tr>\n",
       "    <tr>\n",
       "      <th>1</th>\n",
       "      <td>9.118812</td>\n",
       "      <td>6890.549505</td>\n",
       "    </tr>\n",
       "    <tr>\n",
       "      <th>8</th>\n",
       "      <td>9.120511</td>\n",
       "      <td>2373.370311</td>\n",
       "    </tr>\n",
       "    <tr>\n",
       "      <th>5</th>\n",
       "      <td>9.461165</td>\n",
       "      <td>582.548544</td>\n",
       "    </tr>\n",
       "    <tr>\n",
       "      <th>3</th>\n",
       "      <td>9.889610</td>\n",
       "      <td>648.938312</td>\n",
       "    </tr>\n",
       "    <tr>\n",
       "      <th>4</th>\n",
       "      <td>10.921811</td>\n",
       "      <td>724.098765</td>\n",
       "    </tr>\n",
       "    <tr>\n",
       "      <th>2</th>\n",
       "      <td>13.087649</td>\n",
       "      <td>23385.525896</td>\n",
       "    </tr>\n",
       "    <tr>\n",
       "      <th>9</th>\n",
       "      <td>17.857143</td>\n",
       "      <td>72620.857143</td>\n",
       "    </tr>\n",
       "  </tbody>\n",
       "</table>\n",
       "</div>"
      ],
      "text/plain": [
       "             Q8_2         Q10_3\n",
       "TYPE_2                         \n",
       "6        7.930442    204.121653\n",
       "7        8.197279    633.317460\n",
       "1        9.118812   6890.549505\n",
       "8        9.120511   2373.370311\n",
       "5        9.461165    582.548544\n",
       "3        9.889610    648.938312\n",
       "4       10.921811    724.098765\n",
       "2       13.087649  23385.525896\n",
       "9       17.857143  72620.857143"
      ]
     },
     "execution_count": 109,
     "metadata": {},
     "output_type": "execute_result"
    }
   ],
   "source": [
    "year2020_11[year2020_11['Q8_2'] != 24].groupby('TYPE_2').agg({'Q8_2':np.mean, 'Q10_3':np.mean}).sort_values(by='Q8_2')"
   ]
  },
  {
   "cell_type": "code",
   "execution_count": 153,
   "id": "704d3f1e",
   "metadata": {},
   "outputs": [],
   "source": [
    "y2020_1 = y2020.loc[[7,1,5,9]]\n",
    "y2020_2 = y2020.loc[[3]]\n",
    "\n",
    "y2021_1 = y2021.loc[[7,1,5,9]]\n",
    "y2021_2 = y2021.loc[[3]]"
   ]
  },
  {
   "cell_type": "code",
   "execution_count": 155,
   "id": "544e5d05",
   "metadata": {},
   "outputs": [],
   "source": [
    "y2020_1['년도'] = 2020\n",
    "y2020_2['년도'] = 2020\n",
    "\n",
    "y2021_1['년도'] = 2021\n",
    "y2021_2['년도'] = 2021\n",
    "\n",
    "y2020_1['산업분야'] = ['국제회의업','관광쇼핑업','관광편의시설업','카지노업']\n",
    "y2020_2['산업분야'] = ['관광객이용시설업']\n",
    "\n",
    "y2021_1['산업분야'] = ['국제회의업','관광쇼핑업','관광편의시설업','카지노업']\n",
    "y2021_2['산업분야'] = ['관광객이용시설업']"
   ]
  },
  {
   "cell_type": "markdown",
   "id": "0659a41f-2a13-406f-a626-7a5c7d29e77a",
   "metadata": {},
   "source": [
    "### 시각화"
   ]
  },
  {
   "cell_type": "code",
   "execution_count": 156,
   "id": "3c46c2b1",
   "metadata": {},
   "outputs": [],
   "source": [
    "ss_1 = pd.concat([y2020_1, y2021_1]).reset_index(drop=True)\n",
    "ss_2 = pd.concat([y2020_2, y2021_2]).reset_index(drop=True)"
   ]
  },
  {
   "cell_type": "code",
   "execution_count": 157,
   "id": "933b0fbd",
   "metadata": {},
   "outputs": [],
   "source": [
    "ss_1 = ss_1.rename(columns={'Q8_2':'일일평균영업시간', 'Q10_3':'연간총매출액_전체(백만원)'})\n",
    "ss_2 = ss_2.rename(columns={'Q8_2':'일일평균영업시간', 'Q10_3':'연간총매출액_전체(백만원)'})"
   ]
  },
  {
   "cell_type": "code",
   "execution_count": 158,
   "id": "f7e664a6",
   "metadata": {},
   "outputs": [
    {
     "data": {
      "text/html": [
       "<div>\n",
       "<style scoped>\n",
       "    .dataframe tbody tr th:only-of-type {\n",
       "        vertical-align: middle;\n",
       "    }\n",
       "\n",
       "    .dataframe tbody tr th {\n",
       "        vertical-align: top;\n",
       "    }\n",
       "\n",
       "    .dataframe thead th {\n",
       "        text-align: right;\n",
       "    }\n",
       "</style>\n",
       "<table border=\"1\" class=\"dataframe\">\n",
       "  <thead>\n",
       "    <tr style=\"text-align: right;\">\n",
       "      <th></th>\n",
       "      <th>일일평균영업시간</th>\n",
       "      <th>연간총매출액_전체(백만원)</th>\n",
       "      <th>년도</th>\n",
       "      <th>산업분야</th>\n",
       "    </tr>\n",
       "  </thead>\n",
       "  <tbody>\n",
       "    <tr>\n",
       "      <th>0</th>\n",
       "      <td>8.197279</td>\n",
       "      <td>633.317460</td>\n",
       "      <td>2020</td>\n",
       "      <td>국제회의업</td>\n",
       "    </tr>\n",
       "    <tr>\n",
       "      <th>1</th>\n",
       "      <td>9.118812</td>\n",
       "      <td>6890.549505</td>\n",
       "      <td>2020</td>\n",
       "      <td>관광쇼핑업</td>\n",
       "    </tr>\n",
       "    <tr>\n",
       "      <th>2</th>\n",
       "      <td>9.461165</td>\n",
       "      <td>582.548544</td>\n",
       "      <td>2020</td>\n",
       "      <td>관광편의시설업</td>\n",
       "    </tr>\n",
       "    <tr>\n",
       "      <th>3</th>\n",
       "      <td>9.889610</td>\n",
       "      <td>648.938312</td>\n",
       "      <td>2020</td>\n",
       "      <td>관광객이용시설업</td>\n",
       "    </tr>\n",
       "    <tr>\n",
       "      <th>4</th>\n",
       "      <td>17.857143</td>\n",
       "      <td>72620.857143</td>\n",
       "      <td>2020</td>\n",
       "      <td>카지노업</td>\n",
       "    </tr>\n",
       "    <tr>\n",
       "      <th>5</th>\n",
       "      <td>8.067974</td>\n",
       "      <td>691.324183</td>\n",
       "      <td>2021</td>\n",
       "      <td>국제회의업</td>\n",
       "    </tr>\n",
       "    <tr>\n",
       "      <th>6</th>\n",
       "      <td>8.603030</td>\n",
       "      <td>30107.600000</td>\n",
       "      <td>2021</td>\n",
       "      <td>관광쇼핑업</td>\n",
       "    </tr>\n",
       "    <tr>\n",
       "      <th>7</th>\n",
       "      <td>9.191489</td>\n",
       "      <td>613.697872</td>\n",
       "      <td>2021</td>\n",
       "      <td>관광편의시설업</td>\n",
       "    </tr>\n",
       "    <tr>\n",
       "      <th>8</th>\n",
       "      <td>9.923977</td>\n",
       "      <td>1197.742690</td>\n",
       "      <td>2021</td>\n",
       "      <td>관광객이용시설업</td>\n",
       "    </tr>\n",
       "    <tr>\n",
       "      <th>9</th>\n",
       "      <td>16.375000</td>\n",
       "      <td>117302.500000</td>\n",
       "      <td>2021</td>\n",
       "      <td>카지노업</td>\n",
       "    </tr>\n",
       "  </tbody>\n",
       "</table>\n",
       "</div>"
      ],
      "text/plain": [
       "    일일평균영업시간  연간총매출액_전체(백만원)    년도      산업분야\n",
       "0   8.197279      633.317460  2020     국제회의업\n",
       "1   9.118812     6890.549505  2020     관광쇼핑업\n",
       "2   9.461165      582.548544  2020   관광편의시설업\n",
       "3   9.889610      648.938312  2020  관광객이용시설업\n",
       "4  17.857143    72620.857143  2020      카지노업\n",
       "5   8.067974      691.324183  2021     국제회의업\n",
       "6   8.603030    30107.600000  2021     관광쇼핑업\n",
       "7   9.191489      613.697872  2021   관광편의시설업\n",
       "8   9.923977     1197.742690  2021  관광객이용시설업\n",
       "9  16.375000   117302.500000  2021      카지노업"
      ]
     },
     "execution_count": 158,
     "metadata": {},
     "output_type": "execute_result"
    }
   ],
   "source": [
    "ss"
   ]
  },
  {
   "cell_type": "code",
   "execution_count": 159,
   "id": "c3af244c",
   "metadata": {},
   "outputs": [],
   "source": [
    "ss = pd.concat([y2020, y2021]).reset_index(drop=True)\n",
    "ss = ss.rename(columns={'Q8_2':'일일평균영업시간', 'Q10_3':'연간총매출액_전체(백만원)'})"
   ]
  },
  {
   "cell_type": "code",
   "execution_count": 170,
   "id": "d1696823",
   "metadata": {},
   "outputs": [],
   "source": [
    "ss.to_excel('2020~2021 산업분야별 연간총매출액.xlsx', index = False)"
   ]
  },
  {
   "cell_type": "code",
   "execution_count": 188,
   "id": "9e02a53a",
   "metadata": {},
   "outputs": [],
   "source": [
    "y2018 = pd.read_excel('0.종합_18년기준 관광사업체조사.xlsx')\n",
    "y2019 = pd.read_excel('2019년 기준 관광사업체조사_원자료.xlsx')"
   ]
  },
  {
   "cell_type": "code",
   "execution_count": 189,
   "id": "7d1098b2",
   "metadata": {},
   "outputs": [],
   "source": [
    "y2018 = y2018[['SQ3', 'Q8', 'Q17_W_B']]\n",
    "y2018 = y2018.rename(columns={'SQ3':'산업분야', 'Q8':'일일평균영업시간', 'Q17_W_B':'연간총매출액_전체(백만원)'})\n",
    "y2019 = y2019[['SQ3', 'Q8', 'Q17_W_B']]\n",
    "y2019 = y2019.rename(columns={'SQ3':'산업분야', 'Q8':'일일평균영업시간', 'Q17_W_B':'연간총매출액_전체(백만원)'})"
   ]
  },
  {
   "cell_type": "code",
   "execution_count": 190,
   "id": "b6763557",
   "metadata": {},
   "outputs": [
    {
     "name": "stderr",
     "output_type": "stream",
     "text": [
      "C:\\Users\\User\\AppData\\Local\\Temp\\ipykernel_11812\\1880333426.py:1: FutureWarning: The provided callable <function mean at 0x000001BD08A43820> is currently using SeriesGroupBy.mean. In a future version of pandas, the provided callable will be used directly. To keep current behavior pass the string \"mean\" instead.\n",
      "  y2018 = y2018[y2018['일일평균영업시간'] != 24].groupby('산업분야').agg({'일일평균영업시간':np.mean, '연간총매출액_전체(백만원)':np.mean}).sort_values(by='일일평균영업시간')\n",
      "C:\\Users\\User\\AppData\\Local\\Temp\\ipykernel_11812\\1880333426.py:2: FutureWarning: The provided callable <function mean at 0x000001BD08A43820> is currently using SeriesGroupBy.mean. In a future version of pandas, the provided callable will be used directly. To keep current behavior pass the string \"mean\" instead.\n",
      "  y2019 = y2019[y2019['일일평균영업시간'] != 24].groupby('산업분야').agg({'일일평균영업시간':np.mean, '연간총매출액_전체(백만원)':np.mean}).sort_values(by='일일평균영업시간')\n"
     ]
    }
   ],
   "source": [
    "y2018 = y2018[y2018['일일평균영업시간'] != 24].groupby('산업분야').agg({'일일평균영업시간':np.mean, '연간총매출액_전체(백만원)':np.mean}).sort_values(by='일일평균영업시간')\n",
    "y2019 = y2019[y2019['일일평균영업시간'] != 24].groupby('산업분야').agg({'일일평균영업시간':np.mean, '연간총매출액_전체(백만원)':np.mean}).sort_values(by='일일평균영업시간')"
   ]
  },
  {
   "cell_type": "code",
   "execution_count": 195,
   "id": "fb31fd54",
   "metadata": {},
   "outputs": [],
   "source": [
    "y2018 = y2018.loc[[7,2]]\n",
    "y2019 = y2019.loc[[7,2]]\n",
    "\n",
    "y2018['년도'] = 2018\n",
    "y2019['년도'] = 2019\n",
    "\n",
    "y2018['산업분야'] = ['관광편의시설업','관광숙박업']\n",
    "y2019['산업분야'] = ['관광편의시설업','관광숙박업']"
   ]
  },
  {
   "cell_type": "code",
   "execution_count": 198,
   "id": "a9a818c3",
   "metadata": {},
   "outputs": [],
   "source": [
    "sss = pd.concat([y2018, y2019]).reset_index(drop=True)"
   ]
  },
  {
   "cell_type": "code",
   "execution_count": 200,
   "id": "6df81775",
   "metadata": {},
   "outputs": [],
   "source": [
    "sss.to_excel('2018~2019 산업분야별 연간총매출액.xlsx', index = False)"
   ]
  },
  {
   "cell_type": "code",
   "execution_count": null,
   "id": "f89a9d1b",
   "metadata": {},
   "outputs": [],
   "source": [
    "# 영업시간은 증가, 매출액은 감소     4,1,6   4국체회의업, 1여행업, 6 유원시설업\n",
    "# 영업시간은 감소, 매출액은 증가     7,2     7관광편의시설업,  2관광숙박업"
   ]
  },
  {
   "cell_type": "code",
   "execution_count": 206,
   "id": "8f665aaf",
   "metadata": {},
   "outputs": [
    {
     "name": "stderr",
     "output_type": "stream",
     "text": [
      "C:\\Users\\User\\anaconda3\\envs\\MY_PYTHON\\lib\\site-packages\\seaborn\\_oldcore.py:1498: FutureWarning: is_categorical_dtype is deprecated and will be removed in a future version. Use isinstance(dtype, CategoricalDtype) instead\n",
      "  if pd.api.types.is_categorical_dtype(vector):\n",
      "C:\\Users\\User\\anaconda3\\envs\\MY_PYTHON\\lib\\site-packages\\seaborn\\_oldcore.py:1498: FutureWarning: is_categorical_dtype is deprecated and will be removed in a future version. Use isinstance(dtype, CategoricalDtype) instead\n",
      "  if pd.api.types.is_categorical_dtype(vector):\n",
      "C:\\Users\\User\\anaconda3\\envs\\MY_PYTHON\\lib\\site-packages\\seaborn\\_oldcore.py:1498: FutureWarning: is_categorical_dtype is deprecated and will be removed in a future version. Use isinstance(dtype, CategoricalDtype) instead\n",
      "  if pd.api.types.is_categorical_dtype(vector):\n",
      "C:\\Users\\User\\anaconda3\\envs\\MY_PYTHON\\lib\\site-packages\\seaborn\\_oldcore.py:1498: FutureWarning: is_categorical_dtype is deprecated and will be removed in a future version. Use isinstance(dtype, CategoricalDtype) instead\n",
      "  if pd.api.types.is_categorical_dtype(vector):\n"
     ]
    },
    {
     "data": {
      "text/plain": [
       "<Axes: xlabel='산업분야', ylabel='일일평균영업시간'>"
      ]
     },
     "execution_count": 206,
     "metadata": {},
     "output_type": "execute_result"
    },
    {
     "data": {
      "image/png": "[encoded data removed]",
      "text/plain": [
       "<Figure size 1000x600 with 1 Axes>"
      ]
     },
     "metadata": {},
     "output_type": "display_data"
    }
   ],
   "source": [
    "plt.figure(figsize=(10, 6))\n",
    "sns.barplot(x='산업분야', y='일일평균영업시간', hue='년도', data=sss, dodge=True, palette=['lightgray','skyblue'], alpha=0.8)"
   ]
  },
  {
   "cell_type": "code",
   "execution_count": 204,
   "id": "d20a2e17",
   "metadata": {},
   "outputs": [
    {
     "name": "stderr",
     "output_type": "stream",
     "text": [
      "C:\\Users\\User\\anaconda3\\envs\\MY_PYTHON\\lib\\site-packages\\seaborn\\_oldcore.py:1498: FutureWarning: is_categorical_dtype is deprecated and will be removed in a future version. Use isinstance(dtype, CategoricalDtype) instead\n",
      "  if pd.api.types.is_categorical_dtype(vector):\n",
      "C:\\Users\\User\\anaconda3\\envs\\MY_PYTHON\\lib\\site-packages\\seaborn\\_oldcore.py:1498: FutureWarning: is_categorical_dtype is deprecated and will be removed in a future version. Use isinstance(dtype, CategoricalDtype) instead\n",
      "  if pd.api.types.is_categorical_dtype(vector):\n",
      "C:\\Users\\User\\anaconda3\\envs\\MY_PYTHON\\lib\\site-packages\\seaborn\\_oldcore.py:1498: FutureWarning: is_categorical_dtype is deprecated and will be removed in a future version. Use isinstance(dtype, CategoricalDtype) instead\n",
      "  if pd.api.types.is_categorical_dtype(vector):\n",
      "C:\\Users\\User\\anaconda3\\envs\\MY_PYTHON\\lib\\site-packages\\seaborn\\_oldcore.py:1498: FutureWarning: is_categorical_dtype is deprecated and will be removed in a future version. Use isinstance(dtype, CategoricalDtype) instead\n",
      "  if pd.api.types.is_categorical_dtype(vector):\n"
     ]
    },
    {
     "data": {
      "text/plain": [
       "<Axes: xlabel='산업분야', ylabel='연간총매출액_전체(백만원)'>"
      ]
     },
     "execution_count": 204,
     "metadata": {},
     "output_type": "execute_result"
    },
    {
     "data": {
      "image/png": "[encoded data removed]",
      "text/plain": [
       "<Figure size 1000x600 with 1 Axes>"
      ]
     },
     "metadata": {},
     "output_type": "display_data"
    }
   ],
   "source": [
    "plt.figure(figsize=(10, 6))\n",
    "sns.barplot(x='산업분야', y='연간총매출액_전체(백만원)', hue='년도', data=sss, dodge=True, palette=['lightgray','lightcoral'], alpha=0.8)"
   ]
  },
  {
   "cell_type": "code",
   "execution_count": 161,
   "id": "d655a9be",
   "metadata": {},
   "outputs": [
    {
     "name": "stderr",
     "output_type": "stream",
     "text": [
      "C:\\Users\\User\\anaconda3\\envs\\MY_PYTHON\\lib\\site-packages\\seaborn\\_oldcore.py:1498: FutureWarning: is_categorical_dtype is deprecated and will be removed in a future version. Use isinstance(dtype, CategoricalDtype) instead\n",
      "  if pd.api.types.is_categorical_dtype(vector):\n",
      "C:\\Users\\User\\anaconda3\\envs\\MY_PYTHON\\lib\\site-packages\\seaborn\\_oldcore.py:1498: FutureWarning: is_categorical_dtype is deprecated and will be removed in a future version. Use isinstance(dtype, CategoricalDtype) instead\n",
      "  if pd.api.types.is_categorical_dtype(vector):\n",
      "C:\\Users\\User\\anaconda3\\envs\\MY_PYTHON\\lib\\site-packages\\seaborn\\_oldcore.py:1498: FutureWarning: is_categorical_dtype is deprecated and will be removed in a future version. Use isinstance(dtype, CategoricalDtype) instead\n",
      "  if pd.api.types.is_categorical_dtype(vector):\n",
      "C:\\Users\\User\\anaconda3\\envs\\MY_PYTHON\\lib\\site-packages\\seaborn\\_oldcore.py:1498: FutureWarning: is_categorical_dtype is deprecated and will be removed in a future version. Use isinstance(dtype, CategoricalDtype) instead\n",
      "  if pd.api.types.is_categorical_dtype(vector):\n"
     ]
    },
    {
     "data": {
      "text/plain": [
       "<Axes: xlabel='산업분야', ylabel='일일평균영업시간'>"
      ]
     },
     "execution_count": 161,
     "metadata": {},
     "output_type": "execute_result"
    },
    {
     "data": {
      "image/png": "[encoded data removed]",
      "text/plain": [
       "<Figure size 1000x600 with 1 Axes>"
      ]
     },
     "metadata": {},
     "output_type": "display_data"
    }
   ],
   "source": [
    "import koreanize_matplotlib\n",
    "plt.figure(figsize=(10, 6))\n",
    "sns.barplot(x='산업분야', y='일일평균영업시간', hue='년도', data=ss_1, dodge=True, palette=['lightgray','skyblue'], alpha=0.8)"
   ]
  },
  {
   "cell_type": "code",
   "execution_count": 167,
   "id": "487b1651",
   "metadata": {},
   "outputs": [
    {
     "name": "stderr",
     "output_type": "stream",
     "text": [
      "C:\\Users\\User\\anaconda3\\envs\\MY_PYTHON\\lib\\site-packages\\seaborn\\_oldcore.py:1498: FutureWarning: is_categorical_dtype is deprecated and will be removed in a future version. Use isinstance(dtype, CategoricalDtype) instead\n",
      "  if pd.api.types.is_categorical_dtype(vector):\n",
      "C:\\Users\\User\\anaconda3\\envs\\MY_PYTHON\\lib\\site-packages\\seaborn\\_oldcore.py:1498: FutureWarning: is_categorical_dtype is deprecated and will be removed in a future version. Use isinstance(dtype, CategoricalDtype) instead\n",
      "  if pd.api.types.is_categorical_dtype(vector):\n",
      "C:\\Users\\User\\anaconda3\\envs\\MY_PYTHON\\lib\\site-packages\\seaborn\\_oldcore.py:1498: FutureWarning: is_categorical_dtype is deprecated and will be removed in a future version. Use isinstance(dtype, CategoricalDtype) instead\n",
      "  if pd.api.types.is_categorical_dtype(vector):\n",
      "C:\\Users\\User\\anaconda3\\envs\\MY_PYTHON\\lib\\site-packages\\seaborn\\_oldcore.py:1498: FutureWarning: is_categorical_dtype is deprecated and will be removed in a future version. Use isinstance(dtype, CategoricalDtype) instead\n",
      "  if pd.api.types.is_categorical_dtype(vector):\n"
     ]
    },
    {
     "data": {
      "text/plain": [
       "(0.0, 80000.0)"
      ]
     },
     "execution_count": 167,
     "metadata": {},
     "output_type": "execute_result"
    },
    {
     "data": {
      "image/png": "[encoded data removed]",
      "text/plain": [
       "<Figure size 1000x600 with 1 Axes>"
      ]
     },
     "metadata": {},
     "output_type": "display_data"
    }
   ],
   "source": [
    "import koreanize_matplotlib\n",
    "\n",
    "plt.figure(figsize=(10, 6))\n",
    "sns.barplot(x='산업분야', y='연간총매출액_전체(백만원)', hue='년도', data=ss_1, dodge=True, palette=['lightgray','lightcoral'], alpha=0.8)\n",
    "plt.ylim(0,80000)"
   ]
  },
  {
   "cell_type": "code",
   "execution_count": 163,
   "id": "7aaab49b",
   "metadata": {},
   "outputs": [
    {
     "name": "stderr",
     "output_type": "stream",
     "text": [
      "C:\\Users\\User\\anaconda3\\envs\\MY_PYTHON\\lib\\site-packages\\seaborn\\_oldcore.py:1498: FutureWarning: is_categorical_dtype is deprecated and will be removed in a future version. Use isinstance(dtype, CategoricalDtype) instead\n",
      "  if pd.api.types.is_categorical_dtype(vector):\n",
      "C:\\Users\\User\\anaconda3\\envs\\MY_PYTHON\\lib\\site-packages\\seaborn\\_oldcore.py:1498: FutureWarning: is_categorical_dtype is deprecated and will be removed in a future version. Use isinstance(dtype, CategoricalDtype) instead\n",
      "  if pd.api.types.is_categorical_dtype(vector):\n",
      "C:\\Users\\User\\anaconda3\\envs\\MY_PYTHON\\lib\\site-packages\\seaborn\\_oldcore.py:1498: FutureWarning: is_categorical_dtype is deprecated and will be removed in a future version. Use isinstance(dtype, CategoricalDtype) instead\n",
      "  if pd.api.types.is_categorical_dtype(vector):\n",
      "C:\\Users\\User\\anaconda3\\envs\\MY_PYTHON\\lib\\site-packages\\seaborn\\_oldcore.py:1498: FutureWarning: is_categorical_dtype is deprecated and will be removed in a future version. Use isinstance(dtype, CategoricalDtype) instead\n",
      "  if pd.api.types.is_categorical_dtype(vector):\n"
     ]
    },
    {
     "data": {
      "text/plain": [
       "(9.5, 10.0)"
      ]
     },
     "execution_count": 163,
     "metadata": {},
     "output_type": "execute_result"
    },
    {
     "data": {
      "image/png": "[encoded data removed]",
      "text/plain": [
       "<Figure size 1000x600 with 1 Axes>"
      ]
     },
     "metadata": {},
     "output_type": "display_data"
    }
   ],
   "source": [
    "plt.figure(figsize=(10, 6))\n",
    "sns.barplot(x='산업분야', y='일일평균영업시간', hue='년도', data=ss_2, dodge=True, palette=['lightgray','skyblue'], alpha=0.8)\n",
    "plt.ylim(9.5,10)"
   ]
  },
  {
   "cell_type": "code",
   "execution_count": 164,
   "id": "289a3b89",
   "metadata": {},
   "outputs": [
    {
     "name": "stderr",
     "output_type": "stream",
     "text": [
      "C:\\Users\\User\\anaconda3\\envs\\MY_PYTHON\\lib\\site-packages\\seaborn\\_oldcore.py:1498: FutureWarning: is_categorical_dtype is deprecated and will be removed in a future version. Use isinstance(dtype, CategoricalDtype) instead\n",
      "  if pd.api.types.is_categorical_dtype(vector):\n",
      "C:\\Users\\User\\anaconda3\\envs\\MY_PYTHON\\lib\\site-packages\\seaborn\\_oldcore.py:1498: FutureWarning: is_categorical_dtype is deprecated and will be removed in a future version. Use isinstance(dtype, CategoricalDtype) instead\n",
      "  if pd.api.types.is_categorical_dtype(vector):\n",
      "C:\\Users\\User\\anaconda3\\envs\\MY_PYTHON\\lib\\site-packages\\seaborn\\_oldcore.py:1498: FutureWarning: is_categorical_dtype is deprecated and will be removed in a future version. Use isinstance(dtype, CategoricalDtype) instead\n",
      "  if pd.api.types.is_categorical_dtype(vector):\n",
      "C:\\Users\\User\\anaconda3\\envs\\MY_PYTHON\\lib\\site-packages\\seaborn\\_oldcore.py:1498: FutureWarning: is_categorical_dtype is deprecated and will be removed in a future version. Use isinstance(dtype, CategoricalDtype) instead\n",
      "  if pd.api.types.is_categorical_dtype(vector):\n"
     ]
    },
    {
     "data": {
      "text/plain": [
       "<Axes: xlabel='산업분야', ylabel='연간총매출액_전체(백만원)'>"
      ]
     },
     "execution_count": 164,
     "metadata": {},
     "output_type": "execute_result"
    },
    {
     "data": {
      "image/png": "[encoded data removed]",
      "text/plain": [
       "<Figure size 1000x600 with 1 Axes>"
      ]
     },
     "metadata": {},
     "output_type": "display_data"
    }
   ],
   "source": [
    "plt.figure(figsize=(10, 6))\n",
    "sns.barplot(x='산업분야', y='연간총매출액_전체(백만원)', hue='년도', data=ss_2, dodge=True, palette=['lightgray','lightcoral'], alpha=0.8)"
   ]
  },
  {
   "cell_type": "code",
   "execution_count": null,
   "id": "5f9a2ffe",
   "metadata": {},
   "outputs": [],
   "source": []
  }
 ],
 "metadata": {
  "kernelspec": {
   "display_name": "Python 3 (ipykernel)",
   "language": "python",
   "name": "python3"
  },
  "language_info": {
   "codemirror_mode": {
    "name": "ipython",
    "version": 3
   },
   "file_extension": ".py",
   "mimetype": "text/x-python",
   "name": "python",
   "nbconvert_exporter": "python",
   "pygments_lexer": "ipython3",
   "version": "3.8.18"
  }
 },
 "nbformat": 4,
 "nbformat_minor": 5
}
