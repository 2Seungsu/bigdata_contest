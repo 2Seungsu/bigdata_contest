{
 "cells": [
  {
   "cell_type": "code",
   "execution_count": 1,
   "id": "8bef2311-af92-409b-9d10-52e7368b06d3",
   "metadata": {},
   "outputs": [],
   "source": [
    "import pandas as pd\n",
    "import numpy as np"
   ]
  },
  {
   "cell_type": "code",
   "execution_count": 2,
   "id": "57a0d173-b4b7-4243-8a88-3d6f46fda5ad",
   "metadata": {
    "scrolled": true
   },
   "outputs": [],
   "source": [
    "df_ch = pd.read_excel('문화체육관광관련산업취업자수_data_2023-9-28.xlsx')"
   ]
  },
  {
   "cell_type": "code",
   "execution_count": 3,
   "id": "a8926fe7-d56f-4da7-bd4d-de0810255673",
   "metadata": {},
   "outputs": [],
   "source": [
    "df_ch['DateTime']=pd.to_datetime(df_ch.DateTime)\n",
    "df_ch['DateTime'] = df_ch.DateTime.dt.year"
   ]
  },
  {
   "cell_type": "code",
   "execution_count": 4,
   "id": "a6d1b5d2-58af-4e42-9912-0f803af9ad6d",
   "metadata": {},
   "outputs": [
    {
     "data": {
      "text/html": [
       "<div>\n",
       "<style scoped>\n",
       "    .dataframe tbody tr th:only-of-type {\n",
       "        vertical-align: middle;\n",
       "    }\n",
       "\n",
       "    .dataframe tbody tr th {\n",
       "        vertical-align: top;\n",
       "    }\n",
       "\n",
       "    .dataframe thead th {\n",
       "        text-align: right;\n",
       "    }\n",
       "</style>\n",
       "<table border=\"1\" class=\"dataframe\">\n",
       "  <thead>\n",
       "    <tr style=\"text-align: right;\">\n",
       "      <th></th>\n",
       "      <th>문화체육관광 산업</th>\n",
       "      <th>전체 산업</th>\n",
       "      <th>전체산업대비관광산업_비율</th>\n",
       "    </tr>\n",
       "    <tr>\n",
       "      <th>DateTime</th>\n",
       "      <th></th>\n",
       "      <th></th>\n",
       "      <th></th>\n",
       "    </tr>\n",
       "  </thead>\n",
       "  <tbody>\n",
       "    <tr>\n",
       "      <th>2013</th>\n",
       "      <td>1092.5</td>\n",
       "      <td>25560.0</td>\n",
       "      <td>0.042749</td>\n",
       "    </tr>\n",
       "    <tr>\n",
       "      <th>2014</th>\n",
       "      <td>1119.0</td>\n",
       "      <td>26116.0</td>\n",
       "      <td>0.042846</td>\n",
       "    </tr>\n",
       "    <tr>\n",
       "      <th>2015</th>\n",
       "      <td>1183.5</td>\n",
       "      <td>26336.0</td>\n",
       "      <td>0.044940</td>\n",
       "    </tr>\n",
       "    <tr>\n",
       "      <th>2016</th>\n",
       "      <td>1175.5</td>\n",
       "      <td>26535.5</td>\n",
       "      <td>0.044296</td>\n",
       "    </tr>\n",
       "    <tr>\n",
       "      <th>2017</th>\n",
       "      <td>1192.0</td>\n",
       "      <td>26885.0</td>\n",
       "      <td>0.044337</td>\n",
       "    </tr>\n",
       "    <tr>\n",
       "      <th>2018</th>\n",
       "      <td>1265.0</td>\n",
       "      <td>26979.0</td>\n",
       "      <td>0.046888</td>\n",
       "    </tr>\n",
       "    <tr>\n",
       "      <th>2019</th>\n",
       "      <td>1352.5</td>\n",
       "      <td>27273.5</td>\n",
       "      <td>0.049584</td>\n",
       "    </tr>\n",
       "    <tr>\n",
       "      <th>2020</th>\n",
       "      <td>1322.5</td>\n",
       "      <td>26825.0</td>\n",
       "      <td>0.049308</td>\n",
       "    </tr>\n",
       "    <tr>\n",
       "      <th>2021</th>\n",
       "      <td>1347.5</td>\n",
       "      <td>27477.5</td>\n",
       "      <td>0.049045</td>\n",
       "    </tr>\n",
       "    <tr>\n",
       "      <th>2022</th>\n",
       "      <td>1440.0</td>\n",
       "      <td>28248.0</td>\n",
       "      <td>0.050970</td>\n",
       "    </tr>\n",
       "  </tbody>\n",
       "</table>\n",
       "</div>"
      ],
      "text/plain": [
       "          문화체육관광 산업    전체 산업  전체산업대비관광산업_비율\n",
       "DateTime                                   \n",
       "2013         1092.5  25560.0       0.042749\n",
       "2014         1119.0  26116.0       0.042846\n",
       "2015         1183.5  26336.0       0.044940\n",
       "2016         1175.5  26535.5       0.044296\n",
       "2017         1192.0  26885.0       0.044337\n",
       "2018         1265.0  26979.0       0.046888\n",
       "2019         1352.5  27273.5       0.049584\n",
       "2020         1322.5  26825.0       0.049308\n",
       "2021         1347.5  27477.5       0.049045\n",
       "2022         1440.0  28248.0       0.050970"
      ]
     },
     "execution_count": 4,
     "metadata": {},
     "output_type": "execute_result"
    }
   ],
   "source": [
    "ndf_ch=df_ch.groupby('DateTime').agg({'문화체육관광 산업':np.mean, '전체 산업':np.mean, '전체산업대비관광산업_비율':np.mean})\n",
    "ndf_ch"
   ]
  },
  {
   "cell_type": "code",
   "execution_count": 5,
   "id": "6a504839-6b29-4371-a9cd-a613ac39aa76",
   "metadata": {},
   "outputs": [
    {
     "data": {
      "text/html": [
       "<div>\n",
       "<style scoped>\n",
       "    .dataframe tbody tr th:only-of-type {\n",
       "        vertical-align: middle;\n",
       "    }\n",
       "\n",
       "    .dataframe tbody tr th {\n",
       "        vertical-align: top;\n",
       "    }\n",
       "\n",
       "    .dataframe thead th {\n",
       "        text-align: right;\n",
       "    }\n",
       "</style>\n",
       "<table border=\"1\" class=\"dataframe\">\n",
       "  <thead>\n",
       "    <tr style=\"text-align: right;\">\n",
       "      <th></th>\n",
       "      <th>문화체육관광 산업</th>\n",
       "      <th>전체 산업</th>\n",
       "      <th>전체산업대비관광산업_비율</th>\n",
       "    </tr>\n",
       "    <tr>\n",
       "      <th>DateTime</th>\n",
       "      <th></th>\n",
       "      <th></th>\n",
       "      <th></th>\n",
       "    </tr>\n",
       "  </thead>\n",
       "  <tbody>\n",
       "    <tr>\n",
       "      <th>2013</th>\n",
       "      <td>1092</td>\n",
       "      <td>25560</td>\n",
       "      <td>4.27</td>\n",
       "    </tr>\n",
       "    <tr>\n",
       "      <th>2014</th>\n",
       "      <td>1119</td>\n",
       "      <td>26116</td>\n",
       "      <td>4.28</td>\n",
       "    </tr>\n",
       "    <tr>\n",
       "      <th>2015</th>\n",
       "      <td>1183</td>\n",
       "      <td>26336</td>\n",
       "      <td>4.49</td>\n",
       "    </tr>\n",
       "    <tr>\n",
       "      <th>2016</th>\n",
       "      <td>1175</td>\n",
       "      <td>26535</td>\n",
       "      <td>4.43</td>\n",
       "    </tr>\n",
       "    <tr>\n",
       "      <th>2017</th>\n",
       "      <td>1192</td>\n",
       "      <td>26885</td>\n",
       "      <td>4.43</td>\n",
       "    </tr>\n",
       "    <tr>\n",
       "      <th>2018</th>\n",
       "      <td>1265</td>\n",
       "      <td>26979</td>\n",
       "      <td>4.69</td>\n",
       "    </tr>\n",
       "    <tr>\n",
       "      <th>2019</th>\n",
       "      <td>1352</td>\n",
       "      <td>27273</td>\n",
       "      <td>4.96</td>\n",
       "    </tr>\n",
       "    <tr>\n",
       "      <th>2020</th>\n",
       "      <td>1322</td>\n",
       "      <td>26825</td>\n",
       "      <td>4.93</td>\n",
       "    </tr>\n",
       "    <tr>\n",
       "      <th>2021</th>\n",
       "      <td>1347</td>\n",
       "      <td>27477</td>\n",
       "      <td>4.90</td>\n",
       "    </tr>\n",
       "    <tr>\n",
       "      <th>2022</th>\n",
       "      <td>1440</td>\n",
       "      <td>28248</td>\n",
       "      <td>5.10</td>\n",
       "    </tr>\n",
       "  </tbody>\n",
       "</table>\n",
       "</div>"
      ],
      "text/plain": [
       "          문화체육관광 산업  전체 산업  전체산업대비관광산업_비율\n",
       "DateTime                                 \n",
       "2013           1092  25560           4.27\n",
       "2014           1119  26116           4.28\n",
       "2015           1183  26336           4.49\n",
       "2016           1175  26535           4.43\n",
       "2017           1192  26885           4.43\n",
       "2018           1265  26979           4.69\n",
       "2019           1352  27273           4.96\n",
       "2020           1322  26825           4.93\n",
       "2021           1347  27477           4.90\n",
       "2022           1440  28248           5.10"
      ]
     },
     "execution_count": 5,
     "metadata": {},
     "output_type": "execute_result"
    }
   ],
   "source": [
    "ndf_ch=pd.concat([np.floor(ndf_ch[['문화체육관광 산업','전체 산업']]).astype('int'), round(ndf_ch['전체산업대비관광산업_비율']*100,2)], axis=1)\n",
    "ndf_ch"
   ]
  },
  {
   "cell_type": "code",
   "execution_count": 6,
   "id": "feadfdcb-9b8a-4e0f-b546-e21ba950ccab",
   "metadata": {},
   "outputs": [],
   "source": [
    "import seaborn as sns\n",
    "import matplotlib.pyplot as plt\n",
    "import koreanize_matplotlib"
   ]
  },
  {
   "cell_type": "code",
   "execution_count": 7,
   "id": "59efd745-356d-4e27-af6d-ff0d044ffa4f",
   "metadata": {},
   "outputs": [],
   "source": [
    "ndf_ch.reset_index(drop=False, inplace=True)"
   ]
  },
  {
   "cell_type": "code",
   "execution_count": 15,
   "id": "4c4137a1-a329-4ded-a0ab-06dbdf93f28c",
   "metadata": {},
   "outputs": [],
   "source": [
    "ndf_ch.to_excel('문화체육관광_취업자.xlsx', index =False)"
   ]
  },
  {
   "cell_type": "code",
   "execution_count": 8,
   "id": "00ddae02-eb46-4806-8190-503d3a685f1e",
   "metadata": {},
   "outputs": [
    {
     "data": {
      "image/png": "[encoded data removed]",
      "text/plain": [
       "<Figure size 1200x600 with 1 Axes>"
      ]
     },
     "metadata": {},
     "output_type": "display_data"
    }
   ],
   "source": [
    "plt.figure(figsize=(12,6))\n",
    "sns.lineplot(data = ndf_ch, x = 'DateTime', y ='문화체육관광 산업')\n",
    "#plt.xlim(2012, 2022)\n",
    "#plt.margins(x = 10)\n",
    "plt.xlabel('년도', fontsize=15)\n",
    "plt.ylabel('취업자 수', fontsize=15)\n",
    "#plt.title('문화체육관광 취업자', fontsize=21)\n",
    "plt.show()"
   ]
  },
  {
   "cell_type": "code",
   "execution_count": 114,
   "id": "da1993cb-d365-49a9-bb5e-f907dc50d716",
   "metadata": {},
   "outputs": [
    {
     "data": {
      "image/png": "[encoded data removed]",
      "text/plain": [
       "<Figure size 864x432 with 1 Axes>"
      ]
     },
     "metadata": {
      "needs_background": "light"
     },
     "output_type": "display_data"
    }
   ],
   "source": [
    "plt.figure(figsize=(12,6))\n",
    "sns.lineplot(data = ndf_ch, x = 'DateTime', y ='전체산업대비관광산업_비율')\n",
    "#plt.xlim(2012, 2022)\n",
    "#plt.margins(x = 10)\n",
    "plt.xlabel('년도', fontsize=15)\n",
    "plt.ylabel('전체산업 대비 관광산업 비율(%)',fontsize=15)\n",
    "plt.title('문화체육관광 취업자',fontsize=21)\n",
    "plt.show()"
   ]
  },
  {
   "cell_type": "code",
   "execution_count": null,
   "id": "afa7d74e-16bd-4d5e-a68f-3e14ecf49c5f",
   "metadata": {},
   "outputs": [],
   "source": []
  },
  {
   "cell_type": "code",
   "execution_count": null,
   "id": "d107c749-560e-41ba-8d93-4e35e9e9bce9",
   "metadata": {},
   "outputs": [],
   "source": []
  },
  {
   "cell_type": "code",
   "execution_count": 9,
   "id": "e3cba720-5031-4024-a64f-928305a54cf0",
   "metadata": {},
   "outputs": [],
   "source": [
    "df_jong = pd.read_excel('문화체육관광관련산업종사자수_data_2023-9-28.xlsx')\n",
    "df_jong['DateTime']=pd.to_datetime(df_jong.DateTime)\n",
    "df_jong['DateTime'] = df_jong.DateTime.dt.year"
   ]
  },
  {
   "cell_type": "code",
   "execution_count": 10,
   "id": "08952c9f-3eb1-4ab2-8ee1-0ac5a1afc5e1",
   "metadata": {
    "scrolled": true
   },
   "outputs": [
    {
     "data": {
      "text/html": [
       "<div>\n",
       "<style scoped>\n",
       "    .dataframe tbody tr th:only-of-type {\n",
       "        vertical-align: middle;\n",
       "    }\n",
       "\n",
       "    .dataframe tbody tr th {\n",
       "        vertical-align: top;\n",
       "    }\n",
       "\n",
       "    .dataframe thead th {\n",
       "        text-align: right;\n",
       "    }\n",
       "</style>\n",
       "<table border=\"1\" class=\"dataframe\">\n",
       "  <thead>\n",
       "    <tr style=\"text-align: right;\">\n",
       "      <th></th>\n",
       "      <th>문화체육관광 산업</th>\n",
       "      <th>전체 산업</th>\n",
       "      <th>전체산업대비관광산업_비율</th>\n",
       "    </tr>\n",
       "    <tr>\n",
       "      <th>DateTime</th>\n",
       "      <th></th>\n",
       "      <th></th>\n",
       "      <th></th>\n",
       "    </tr>\n",
       "  </thead>\n",
       "  <tbody>\n",
       "    <tr>\n",
       "      <th>2009</th>\n",
       "      <td>607.875000</td>\n",
       "      <td>13350.750000</td>\n",
       "      <td>0.045533</td>\n",
       "    </tr>\n",
       "    <tr>\n",
       "      <th>2010</th>\n",
       "      <td>609.250000</td>\n",
       "      <td>13820.416667</td>\n",
       "      <td>0.044088</td>\n",
       "    </tr>\n",
       "    <tr>\n",
       "      <th>2011</th>\n",
       "      <td>640.583333</td>\n",
       "      <td>14485.083333</td>\n",
       "      <td>0.044223</td>\n",
       "    </tr>\n",
       "    <tr>\n",
       "      <th>2012</th>\n",
       "      <td>673.250000</td>\n",
       "      <td>14946.666667</td>\n",
       "      <td>0.045039</td>\n",
       "    </tr>\n",
       "    <tr>\n",
       "      <th>2013</th>\n",
       "      <td>710.166667</td>\n",
       "      <td>15247.166667</td>\n",
       "      <td>0.046580</td>\n",
       "    </tr>\n",
       "    <tr>\n",
       "      <th>2014</th>\n",
       "      <td>736.333333</td>\n",
       "      <td>15862.916667</td>\n",
       "      <td>0.046422</td>\n",
       "    </tr>\n",
       "    <tr>\n",
       "      <th>2015</th>\n",
       "      <td>758.833333</td>\n",
       "      <td>16610.333333</td>\n",
       "      <td>0.045689</td>\n",
       "    </tr>\n",
       "    <tr>\n",
       "      <th>2016</th>\n",
       "      <td>792.333333</td>\n",
       "      <td>17241.166667</td>\n",
       "      <td>0.045952</td>\n",
       "    </tr>\n",
       "    <tr>\n",
       "      <th>2017</th>\n",
       "      <td>833.666667</td>\n",
       "      <td>17617.416667</td>\n",
       "      <td>0.047319</td>\n",
       "    </tr>\n",
       "    <tr>\n",
       "      <th>2018</th>\n",
       "      <td>882.250000</td>\n",
       "      <td>18148.833333</td>\n",
       "      <td>0.048606</td>\n",
       "    </tr>\n",
       "    <tr>\n",
       "      <th>2019</th>\n",
       "      <td>931.583333</td>\n",
       "      <td>18699.583333</td>\n",
       "      <td>0.049816</td>\n",
       "    </tr>\n",
       "    <tr>\n",
       "      <th>2020</th>\n",
       "      <td>874.916667</td>\n",
       "      <td>18591.583333</td>\n",
       "      <td>0.047056</td>\n",
       "    </tr>\n",
       "    <tr>\n",
       "      <th>2021</th>\n",
       "      <td>901.250000</td>\n",
       "      <td>18773.333333</td>\n",
       "      <td>0.047999</td>\n",
       "    </tr>\n",
       "    <tr>\n",
       "      <th>2022</th>\n",
       "      <td>969.750000</td>\n",
       "      <td>19142.000000</td>\n",
       "      <td>0.050659</td>\n",
       "    </tr>\n",
       "    <tr>\n",
       "      <th>2023</th>\n",
       "      <td>1023.000000</td>\n",
       "      <td>19437.666667</td>\n",
       "      <td>0.052627</td>\n",
       "    </tr>\n",
       "  </tbody>\n",
       "</table>\n",
       "</div>"
      ],
      "text/plain": [
       "            문화체육관광 산업         전체 산업  전체산업대비관광산업_비율\n",
       "DateTime                                          \n",
       "2009       607.875000  13350.750000       0.045533\n",
       "2010       609.250000  13820.416667       0.044088\n",
       "2011       640.583333  14485.083333       0.044223\n",
       "2012       673.250000  14946.666667       0.045039\n",
       "2013       710.166667  15247.166667       0.046580\n",
       "2014       736.333333  15862.916667       0.046422\n",
       "2015       758.833333  16610.333333       0.045689\n",
       "2016       792.333333  17241.166667       0.045952\n",
       "2017       833.666667  17617.416667       0.047319\n",
       "2018       882.250000  18148.833333       0.048606\n",
       "2019       931.583333  18699.583333       0.049816\n",
       "2020       874.916667  18591.583333       0.047056\n",
       "2021       901.250000  18773.333333       0.047999\n",
       "2022       969.750000  19142.000000       0.050659\n",
       "2023      1023.000000  19437.666667       0.052627"
      ]
     },
     "execution_count": 10,
     "metadata": {},
     "output_type": "execute_result"
    }
   ],
   "source": [
    "ndf_jong=df_jong.groupby('DateTime').agg({'문화체육관광 산업':np.mean, '전체 산업':np.mean, '전체산업대비관광산업_비율':np.mean})\n",
    "ndf_jong"
   ]
  },
  {
   "cell_type": "code",
   "execution_count": 11,
   "id": "0546d673-bc02-412a-ba72-b125913a6712",
   "metadata": {
    "scrolled": true
   },
   "outputs": [
    {
     "data": {
      "text/html": [
       "<div>\n",
       "<style scoped>\n",
       "    .dataframe tbody tr th:only-of-type {\n",
       "        vertical-align: middle;\n",
       "    }\n",
       "\n",
       "    .dataframe tbody tr th {\n",
       "        vertical-align: top;\n",
       "    }\n",
       "\n",
       "    .dataframe thead th {\n",
       "        text-align: right;\n",
       "    }\n",
       "</style>\n",
       "<table border=\"1\" class=\"dataframe\">\n",
       "  <thead>\n",
       "    <tr style=\"text-align: right;\">\n",
       "      <th></th>\n",
       "      <th>문화체육관광 산업</th>\n",
       "      <th>전체 산업</th>\n",
       "      <th>전체산업대비관광산업_비율</th>\n",
       "    </tr>\n",
       "    <tr>\n",
       "      <th>DateTime</th>\n",
       "      <th></th>\n",
       "      <th></th>\n",
       "      <th></th>\n",
       "    </tr>\n",
       "  </thead>\n",
       "  <tbody>\n",
       "    <tr>\n",
       "      <th>2009</th>\n",
       "      <td>607</td>\n",
       "      <td>13350</td>\n",
       "      <td>4.55</td>\n",
       "    </tr>\n",
       "    <tr>\n",
       "      <th>2010</th>\n",
       "      <td>609</td>\n",
       "      <td>13820</td>\n",
       "      <td>4.41</td>\n",
       "    </tr>\n",
       "    <tr>\n",
       "      <th>2011</th>\n",
       "      <td>640</td>\n",
       "      <td>14485</td>\n",
       "      <td>4.42</td>\n",
       "    </tr>\n",
       "    <tr>\n",
       "      <th>2012</th>\n",
       "      <td>673</td>\n",
       "      <td>14946</td>\n",
       "      <td>4.50</td>\n",
       "    </tr>\n",
       "    <tr>\n",
       "      <th>2013</th>\n",
       "      <td>710</td>\n",
       "      <td>15247</td>\n",
       "      <td>4.66</td>\n",
       "    </tr>\n",
       "    <tr>\n",
       "      <th>2014</th>\n",
       "      <td>736</td>\n",
       "      <td>15862</td>\n",
       "      <td>4.64</td>\n",
       "    </tr>\n",
       "    <tr>\n",
       "      <th>2015</th>\n",
       "      <td>758</td>\n",
       "      <td>16610</td>\n",
       "      <td>4.57</td>\n",
       "    </tr>\n",
       "    <tr>\n",
       "      <th>2016</th>\n",
       "      <td>792</td>\n",
       "      <td>17241</td>\n",
       "      <td>4.60</td>\n",
       "    </tr>\n",
       "    <tr>\n",
       "      <th>2017</th>\n",
       "      <td>833</td>\n",
       "      <td>17617</td>\n",
       "      <td>4.73</td>\n",
       "    </tr>\n",
       "    <tr>\n",
       "      <th>2018</th>\n",
       "      <td>882</td>\n",
       "      <td>18148</td>\n",
       "      <td>4.86</td>\n",
       "    </tr>\n",
       "    <tr>\n",
       "      <th>2019</th>\n",
       "      <td>931</td>\n",
       "      <td>18699</td>\n",
       "      <td>4.98</td>\n",
       "    </tr>\n",
       "    <tr>\n",
       "      <th>2020</th>\n",
       "      <td>874</td>\n",
       "      <td>18591</td>\n",
       "      <td>4.71</td>\n",
       "    </tr>\n",
       "    <tr>\n",
       "      <th>2021</th>\n",
       "      <td>901</td>\n",
       "      <td>18773</td>\n",
       "      <td>4.80</td>\n",
       "    </tr>\n",
       "    <tr>\n",
       "      <th>2022</th>\n",
       "      <td>969</td>\n",
       "      <td>19142</td>\n",
       "      <td>5.07</td>\n",
       "    </tr>\n",
       "    <tr>\n",
       "      <th>2023</th>\n",
       "      <td>1023</td>\n",
       "      <td>19437</td>\n",
       "      <td>5.26</td>\n",
       "    </tr>\n",
       "  </tbody>\n",
       "</table>\n",
       "</div>"
      ],
      "text/plain": [
       "          문화체육관광 산업  전체 산업  전체산업대비관광산업_비율\n",
       "DateTime                                 \n",
       "2009            607  13350           4.55\n",
       "2010            609  13820           4.41\n",
       "2011            640  14485           4.42\n",
       "2012            673  14946           4.50\n",
       "2013            710  15247           4.66\n",
       "2014            736  15862           4.64\n",
       "2015            758  16610           4.57\n",
       "2016            792  17241           4.60\n",
       "2017            833  17617           4.73\n",
       "2018            882  18148           4.86\n",
       "2019            931  18699           4.98\n",
       "2020            874  18591           4.71\n",
       "2021            901  18773           4.80\n",
       "2022            969  19142           5.07\n",
       "2023           1023  19437           5.26"
      ]
     },
     "execution_count": 11,
     "metadata": {},
     "output_type": "execute_result"
    }
   ],
   "source": [
    "ndf_jong=pd.concat([np.floor(ndf_jong[['문화체육관광 산업','전체 산업']]).astype('int'), round(ndf_jong['전체산업대비관광산업_비율']*100,2)], axis=1)\n",
    "ndf_jong"
   ]
  },
  {
   "cell_type": "code",
   "execution_count": 12,
   "id": "77b543ab-63d7-4ea1-814e-3169ab97cdc9",
   "metadata": {},
   "outputs": [],
   "source": [
    "ndf_jong.reset_index(drop=False, inplace=True)"
   ]
  },
  {
   "cell_type": "code",
   "execution_count": 14,
   "id": "ba70a39b-0a83-4ff8-8824-761b71541112",
   "metadata": {},
   "outputs": [],
   "source": [
    "ndf_jong.to_excel('문화체육관광_종사자.xlsx', index =False)"
   ]
  },
  {
   "cell_type": "code",
   "execution_count": 13,
   "id": "703b8681-1119-4d4f-9ea3-47918bd6bb73",
   "metadata": {},
   "outputs": [
    {
     "data": {
      "image/png": "[encoded data removed]",
      "text/plain": [
       "<Figure size 1200x600 with 1 Axes>"
      ]
     },
     "metadata": {},
     "output_type": "display_data"
    }
   ],
   "source": [
    "plt.figure(figsize=(12,6))\n",
    "sns.lineplot(data = ndf_jong, x = 'DateTime', y ='문화체육관광 산업')\n",
    "#plt.xlim(2012, 2022)\n",
    "#plt.margins(x = 10)\n",
    "plt.xlabel('년도',fontsize=15)\n",
    "plt.ylabel('종사자 수', fontsize=15)\n",
    "#plt.title('문화체육관광 종사자', fontsize=21)\n",
    "plt.show()"
   ]
  },
  {
   "cell_type": "code",
   "execution_count": 112,
   "id": "20c78dcf-d523-493e-b749-76cd116cb8ef",
   "metadata": {},
   "outputs": [
    {
     "data": {
      "image/png": "[encoded data removed]",
      "text/plain": [
       "<Figure size 864x432 with 1 Axes>"
      ]
     },
     "metadata": {
      "needs_background": "light"
     },
     "output_type": "display_data"
    }
   ],
   "source": [
    "plt.figure(figsize=(12,6))\n",
    "sns.lineplot(data = ndf_jong, x = 'DateTime', y ='전체산업대비관광산업_비율')\n",
    "#plt.xlim(2012, 2022)\n",
    "#plt.margins(x = 10)\n",
    "plt.xlabel('년도',fontsize=15)\n",
    "plt.ylabel('전체산업 대비 관광산업 비율(%)',fontsize=15)\n",
    "plt.title('문화체육관광 종사자',fontsize=21)\n",
    "plt.show()"
   ]
  },
  {
   "cell_type": "code",
   "execution_count": null,
   "id": "ca532276-0023-42ec-9f31-9e3bef1c1a79",
   "metadata": {},
   "outputs": [],
   "source": []
  }
 ],
 "metadata": {
  "kernelspec": {
   "display_name": "Python 3 (ipykernel)",
   "language": "python",
   "name": "python3"
  },
  "language_info": {
   "codemirror_mode": {
    "name": "ipython",
    "version": 3
   },
   "file_extension": ".py",
   "mimetype": "text/x-python",
   "name": "python",
   "nbconvert_exporter": "python",
   "pygments_lexer": "ipython3",
   "version": "3.8.18"
  }
 },
 "nbformat": 4,
 "nbformat_minor": 5
}
