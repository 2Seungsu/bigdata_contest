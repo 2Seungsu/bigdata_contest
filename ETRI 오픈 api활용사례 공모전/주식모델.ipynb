{
 "cells": [
  {
   "cell_type": "code",
   "execution_count": 1,
   "id": "23fc40bc-cf73-4c11-918a-58801d2ca602",
   "metadata": {},
   "outputs": [],
   "source": [
    "import matplotlib.pyplot as plt\n",
    "from matplotlib.figure import Figure\n",
    "import pandas as pd\n",
    "import numpy as np\n",
    "import warnings\n",
    "warnings.filterwarnings('ignore')"
   ]
  },
  {
   "cell_type": "code",
   "execution_count": 2,
   "id": "631a62c9-f82e-4a98-9e2e-7ac95c8b8c48",
   "metadata": {},
   "outputs": [],
   "source": [
    "import FinanceDataReader as fdr"
   ]
  },
  {
   "cell_type": "markdown",
   "id": "8042ec6d-50f8-4aac-a9cd-1c2f607fa73e",
   "metadata": {},
   "source": [
    "### 지수로 종목 가격 예측"
   ]
  },
  {
   "cell_type": "code",
   "execution_count": 3,
   "id": "3e0d8439-94bb-4906-a32a-48a807d94531",
   "metadata": {},
   "outputs": [],
   "source": [
    "class PatternFinder():\n",
    "    def __init__(self, period=5):\n",
    "        self.period = period\n",
    "        self.kospi = pd.read_csv('코스피.csv')\n",
    "        self.kosdaq = pd.read_csv('코스닥.csv') \n",
    "        self.code_kospi = fdr.StockListing('KOSPI').Code.values\n",
    "        self.code_kosdaq = fdr.StockListing('KOSDAQ').Code.values\n",
    "\n",
    "    def set_stock(self, code: str):\n",
    "        self.code = code\n",
    "        self.data = fdr.DataReader(code)\n",
    "        self.close = self.data['Close']\n",
    "        self.change = self.data['Change']\n",
    "        return self.data\n",
    "\n",
    "    def search(self, start_date, end_date, threshold=0.98):\n",
    "        start_date = pd.to_datetime(start_date)\n",
    "        end_date = pd.to_datetime(end_date)\n",
    "\n",
    "        # Condition to use KOSPI or KOSDAQ data based on the stock code\n",
    "        if self.code in self.code_kospi:\n",
    "            base_df = self.kospi\n",
    "        elif self.code in self.code_kosdaq:\n",
    "            base_df = self.kosdaq\n",
    "        else:\n",
    "            raise ValueError(\"Stock code not found in KOSPI or KOSDAQ listings\")\n",
    "    \n",
    "        # Convert the 'Date' column of the chosen dataframe to datetime objects\n",
    "        base_df['Date'] = pd.to_datetime(base_df['Date'])\n",
    "    \n",
    "        # Filter the chosen dataframe by date range and select the 'Close' column\n",
    "        base = base_df[(base_df['Date'] >= start_date) & (base_df['Date'] <= end_date)]['Close']\n",
    "    \n",
    "        # Normalize the data\n",
    "        self.base_norm = (base - base.min()) / (base.max() - base.min())\n",
    "        self.base = base\n",
    "    \n",
    "        window_size = len(base)\n",
    "        moving_cnt = len(self.data) - window_size - self.period - 1\n",
    "        cos_sims = self.__cosine_sims(moving_cnt, window_size)\n",
    "    \n",
    "        self.window_size = window_size\n",
    "        cos_sims = cos_sims[cos_sims > threshold]\n",
    "        return cos_sims\n",
    "        \n",
    "    \n",
    "    def __cosine_sims(self, moving_cnt, window_size):\n",
    "        def cosine_similarity(x, y):\n",
    "            return np.dot(x, y) / (np.sqrt(np.dot(x, x)) * np.sqrt(np.dot(y, y)))\n",
    "        \n",
    "        # 유사도 저장 딕셔너리\n",
    "        sim_list = []\n",
    "\n",
    "        for i in range(moving_cnt):\n",
    "            target = self.close[i:i+window_size]\n",
    "\n",
    "            # Normalize\n",
    "            target_norm = (target - target.min()) / (target.max() - target.min())\n",
    "\n",
    "            # 코사인 유사도 저장\n",
    "            cos_similarity = cosine_similarity(self.base_norm, target_norm)\n",
    "\n",
    "            # 코사인 유사도 <- i(인덱스), 시계열데이터 함께 저장\n",
    "            sim_list.append(cos_similarity)\n",
    "        return pd.Series(sim_list).sort_values(ascending=False)\n",
    "\n",
    "    \n",
    "    def plot_pattern(self, idx, period=5):\n",
    "        if period != self.period:\n",
    "            self.period = period\n",
    "            \n",
    "        top = self.close[idx:idx+self.window_size+period]\n",
    "        top_norm = (top - top.min()) / (top.max() - top.min())\n",
    "\n",
    "        plt.plot(self.base_norm.values, label='base')\n",
    "        plt.plot(top_norm.values, label='target')\n",
    "        plt.axvline(x=len(self.base_norm)-1, c='r', linestyle='--')\n",
    "        plt.axvspan(len(self.base_norm.values)-1, len(top_norm.values)-1, facecolor='yellow', alpha=0.3)\n",
    "        plt.legend()\n",
    "        plt.show()\n",
    "        \n",
    "        \n",
    "        preds = self.change[idx+self.window_size: idx+self.window_size+period]\n",
    "        display(preds)\n",
    "        print(f'pred: {round(preds.mean(),5)*100} % ')\n",
    "        return f'pred: {round(preds.mean(),5)*100} %'\n",
    "\n",
    "    \n",
    "    def stat_prediction(self, result, period=5):\n",
    "        idx_list = list(result.keys())\n",
    "        mean_list = []\n",
    "        for idx in idx_list:\n",
    "            pred = self.change[idx+self.window_size: idx+self.window_size+period]\n",
    "            mean_list.append(pred.mean())\n",
    "        return np.array(mean_list)"
   ]
  },
  {
   "cell_type": "code",
   "execution_count": 4,
   "id": "7f56a711-55fa-41a0-8b41-4ef10fbcae6b",
   "metadata": {
    "scrolled": true
   },
   "outputs": [
    {
     "name": "stdout",
     "output_type": "stream",
     "text": [
      "Similarity Results:\n",
      "2236    0.990063\n",
      "2292    0.989298\n",
      "2291    0.989167\n",
      "2235    0.987753\n",
      "3166    0.987496\n",
      "2727    0.986758\n",
      "4029    0.985577\n",
      "5554    0.985544\n",
      "5553    0.985505\n",
      "860     0.985464\n",
      "274     0.985306\n",
      "1784    0.985150\n",
      "3236    0.984959\n",
      "3167    0.984600\n",
      "2938    0.984503\n",
      "1611    0.984398\n",
      "5093    0.984328\n",
      "463     0.984228\n",
      "1190    0.983767\n",
      "861     0.983202\n",
      "2726    0.982994\n",
      "243     0.982890\n",
      "3682    0.982855\n",
      "1785    0.982791\n",
      "275     0.982480\n",
      "464     0.982254\n",
      "5649    0.982038\n",
      "2201    0.981623\n",
      "855     0.980062\n",
      "4739    0.980029\n",
      "dtype: float64\n"
     ]
    },
    {
     "data": {
      "image/png": "[encoded data removed]",
      "text/plain": [
       "<Figure size 640x480 with 1 Axes>"
      ]
     },
     "metadata": {},
     "output_type": "display_data"
    },
    {
     "data": {
      "text/plain": [
       "Date\n",
       "1999-08-10    0.111111\n",
       "1999-08-11   -0.072500\n",
       "1999-08-12    0.024259\n",
       "1999-08-13   -0.026316\n",
       "1999-08-16    0.027027\n",
       "Name: Change, dtype: float64"
      ]
     },
     "metadata": {},
     "output_type": "display_data"
    },
    {
     "name": "stdout",
     "output_type": "stream",
     "text": [
      "pred: 1.272 % \n",
      "Statistical Prediction Results:\n",
      "[ 0.0089963   0.00165685  0.01632798  0.00590773 -0.00160794 -0.00149091\n",
      "  0.0065294   0.0019788   0.00248037  0.02208073 -0.01342171  0.0058981\n",
      "  0.00544566  0.00137022  0.00087233  0.00446746 -0.01185116 -0.02340435\n",
      "  0.02063365  0.02064518  0.00029578  0.00525219 -0.00100161  0.01104175\n",
      "  0.01286579 -0.02612835 -0.00572543  0.00933468 -0.00797078 -0.01418022]\n"
     ]
    }
   ],
   "source": [
    "# Define your PatternFinder class here (with the modifications)\n",
    "\n",
    "# Create an instance of the PatternFinder class\n",
    "pattern_finder = PatternFinder()\n",
    "\n",
    "# Set the stock code you want to analyze (for example, Samsung Electronics)\n",
    "stock_code = \"005930\"  # Replace with the KOSPI stock code you want to analyze\n",
    "pattern_finder.set_stock(stock_code)\n",
    "\n",
    "# Define your start_date and end_date as datetime objects\n",
    "start_date = pd.to_datetime(\"2019-07-22\")\n",
    "end_date = pd.to_datetime(\"2019-08-12\")\n",
    "\n",
    "# Perform similarity search using KOSPI data as the base\n",
    "cosine_sims = pattern_finder.search(start_date, end_date, threshold=0.98)\n",
    "\n",
    "# Print the results or perform further analysis\n",
    "print(\"Similarity Results:\")\n",
    "print(cosine_sims)\n",
    "\n",
    "# Plot a similar pattern (you can replace 0 with the index you want to plot)\n",
    "pattern_finder.plot_pattern(0)\n",
    "\n",
    "# Perform statistical prediction based on the results\n",
    "period = 5\n",
    "mean_list = pattern_finder.stat_prediction(cosine_sims, period)\n",
    "print(\"Statistical Prediction Results:\")\n",
    "print(mean_list)\n"
   ]
  },
  {
   "cell_type": "markdown",
   "id": "33ffb770-fc59-4dec-be6c-697698c2daba",
   "metadata": {},
   "source": [
    "### 실제수익률 비교"
   ]
  },
  {
   "cell_type": "code",
   "execution_count": 5,
   "id": "1060dec5-8876-4b78-843a-2b2254180ab6",
   "metadata": {},
   "outputs": [
    {
     "name": "stdout",
     "output_type": "stream",
     "text": [
      "실제 수익률:\n",
      "-7.6%\n"
     ]
    }
   ],
   "source": [
    "# Set the stock code and date range\n",
    "stock_code = \"005930\"  # Replace with your stock code\n",
    "start_date = pd.to_datetime(\"2019-07-22\")\n",
    "end_date = pd.to_datetime(\"2019-08-12\")\n",
    "\n",
    "# Load the stock data\n",
    "stock_data = fdr.DataReader(stock_code, start_date, end_date)\n",
    "\n",
    "# Calculate the actual returns\n",
    "stock_returns = stock_data['Close'].pct_change().dropna()  # Daily stock returns\n",
    "\n",
    "# Calculate the cumulative returns\n",
    "stock_cumulative_returns = (stock_returns + 1).cumprod() \n",
    "\n",
    "# Print the cumulative returns\n",
    "print(\"실제 수익률:\")\n",
    "print(f'{round(stock_cumulative_returns[-1]-stock_cumulative_returns[0],3)*100}'+'%')"
   ]
  },
  {
   "cell_type": "code",
   "execution_count": 11,
   "id": "eab5483f-ec83-4cf1-9038-0f453673becb",
   "metadata": {},
   "outputs": [],
   "source": [
    "class PatternFinder():\n",
    "    def __init__(self, period=5):\n",
    "        self.period = period\n",
    "        self.kospi = pd.read_csv('코스피.csv')\n",
    "        self.kosdaq = pd.read_csv('코스닥.csv') \n",
    "        self.code_kospi = fdr.StockListing('KOSPI').Code.values\n",
    "        self.code_kosdaq = fdr.StockListing('KOSDAQ').Code.values\n",
    "\n",
    "    def set_stock(self, code: str):\n",
    "        self.code = code\n",
    "        self.data = fdr.DataReader(code)\n",
    "        self.close = self.data['Close']\n",
    "        self.change = self.data['Change']\n",
    "        return self.data\n",
    "\n",
    "    def search(self, start_date, end_date, threshold=0.98):\n",
    "        self.start_date = pd.to_datetime(start_date)\n",
    "        self.end_date = pd.to_datetime(end_date)\n",
    "\n",
    "        # Condition to use KOSPI or KOSDAQ data based on the stock code\n",
    "        if self.code in self.code_kospi:\n",
    "            base_df = self.kospi\n",
    "        elif self.code in self.code_kosdaq:\n",
    "            base_df = self.kosdaq\n",
    "        else:\n",
    "            raise ValueError(\"Stock code not found in KOSPI or KOSDAQ listings\")\n",
    "    \n",
    "        # Convert the 'Date' column of the chosen dataframe to datetime objects\n",
    "        base_df['Date'] = pd.to_datetime(base_df['Date'])\n",
    "    \n",
    "        # Filter the chosen dataframe by date range and select the 'Close' column\n",
    "        base = base_df[(base_df['Date'] >= self.start_date) & (base_df['Date'] <= self.end_date)]['Close']\n",
    "    \n",
    "        # Normalize the data\n",
    "        self.base_norm = (base - base.min()) / (base.max() - base.min())\n",
    "        self.base = base\n",
    "    \n",
    "        window_size = len(base)\n",
    "        moving_cnt = len(self.data) - window_size - self.period - 1\n",
    "        cos_sims = self.__cosine_sims(moving_cnt, window_size)\n",
    "    \n",
    "        self.window_size = window_size\n",
    "        cos_sims = cos_sims[cos_sims > threshold]\n",
    "        return cos_sims\n",
    "        \n",
    "    \n",
    "    def __cosine_sims(self, moving_cnt, window_size):\n",
    "        def cosine_similarity(x, y):\n",
    "            return np.dot(x, y) / (np.sqrt(np.dot(x, x)) * np.sqrt(np.dot(y, y)))\n",
    "        \n",
    "        # 유사도 저장 딕셔너리\n",
    "        sim_list = []\n",
    "\n",
    "        for i in range(moving_cnt):\n",
    "            target = self.close[i:i+window_size]\n",
    "\n",
    "            # Normalize\n",
    "            target_norm = (target - target.min()) / (target.max() - target.min())\n",
    "\n",
    "            # 코사인 유사도 저장\n",
    "            cos_similarity = cosine_similarity(self.base_norm, target_norm)\n",
    "\n",
    "            # 코사인 유사도 <- i(인덱스), 시계열데이터 함께 저장\n",
    "            sim_list.append(cos_similarity)\n",
    "        return pd.Series(sim_list).sort_values(ascending=False)\n",
    "\n",
    "    \n",
    "    def plot_pattern(self, idx, period=5):\n",
    "        if period != self.period:\n",
    "            self.period = period\n",
    "            \n",
    "        top = self.close[idx:idx+self.window_size+period]\n",
    "        top_norm = (top - top.min()) / (top.max() - top.min())\n",
    "\n",
    "        plt.plot(self.base_norm.values, label='base')\n",
    "        plt.plot(top_norm.values, label='target')\n",
    "        plt.axvline(x=len(self.base_norm)-1, c='r', linestyle='--')\n",
    "        plt.axvspan(len(self.base_norm.values)-1, len(top_norm.values)-1, facecolor='yellow', alpha=0.3)\n",
    "        plt.legend()\n",
    "        plt.show()\n",
    "        \n",
    "        \n",
    "        preds = self.change[idx+self.window_size: idx+self.window_size+period]\n",
    "        display(preds)\n",
    "        print(f'pred: {round(preds.mean(),5)*100} % ')\n",
    "        return f'pred: {round(preds.mean(),5)*100} %'\n",
    "\n",
    "    \n",
    "    def stat_prediction(self, result, period=5):\n",
    "        idx_list = list(result.keys())\n",
    "        mean_list = []\n",
    "        for idx in idx_list:\n",
    "            pred = self.change[idx+self.window_size: idx+self.window_size+period]\n",
    "            mean_list.append(pred.mean())\n",
    "        return np.array(mean_list)"
   ]
  },
  {
   "cell_type": "code",
   "execution_count": 12,
   "id": "57133357-f2b4-4465-aff6-d07ac6244f3a",
   "metadata": {},
   "outputs": [],
   "source": [
    "class RealProfit:\n",
    "    def __init__(self, pattern_finder):\n",
    "        self.pattern_finder = pattern_finder  # PatternFinder 객체를 전달\n",
    "        self.start_date = self.pattern_finder.start_date\n",
    "        self.end_date = self.pattern_finder.end_date\n",
    "        self.code = self.pattern_finder.code\n",
    "\n",
    "    def calculate_profit(self):\n",
    "        # start_date, end_date, code 정보를 활용하여 실제 수익률을 계산\n",
    "        # 주식 데이터와 KOSPI 지수 데이터를 가져오고 수익률을 계산하는 등의 작업 수행\n",
    "        start_date = pd.to_datetime(self.start_date)\n",
    "        end_date = pd.to_datetime(self.end_date)\n",
    "        \n",
    "        stock_data = fdr.DataReader(self.code, start_date, end_date)\n",
    "        stock_returns = stock_data['Close'].pct_change().dropna()  # Daily stock returns\n",
    "        stock_cumulative_returns = (stock_returns + 1).cumprod() \n",
    "\n",
    "        print(f'실제수익률: {round(stock_cumulative_returns[-1]-stock_cumulative_returns[0], 5) * 100} % ')\n",
    "        return f'{round(stock_cumulative_returns[-1]-stock_cumulative_returns[0], 5) * 100} %'\n"
   ]
  },
  {
   "cell_type": "code",
   "execution_count": 20,
   "id": "1d7fdc80-b9e1-4048-8ebc-2bde5a416949",
   "metadata": {
    "scrolled": true
   },
   "outputs": [
    {
     "name": "stdout",
     "output_type": "stream",
     "text": [
      "Similarity Results:\n",
      "2236    0.990063\n",
      "2292    0.989298\n",
      "2291    0.989167\n",
      "2235    0.987753\n",
      "3166    0.987496\n",
      "2727    0.986758\n",
      "4029    0.985577\n",
      "5554    0.985544\n",
      "5553    0.985505\n",
      "860     0.985464\n",
      "274     0.985306\n",
      "1784    0.985150\n",
      "3236    0.984959\n",
      "3167    0.984600\n",
      "2938    0.984503\n",
      "1611    0.984398\n",
      "5093    0.984328\n",
      "463     0.984228\n",
      "1190    0.983767\n",
      "861     0.983202\n",
      "2726    0.982994\n",
      "243     0.982890\n",
      "3682    0.982855\n",
      "1785    0.982791\n",
      "275     0.982480\n",
      "464     0.982254\n",
      "5649    0.982038\n",
      "2201    0.981623\n",
      "855     0.980062\n",
      "4739    0.980029\n",
      "dtype: float64\n"
     ]
    },
    {
     "data": {
      "image/png": "[encoded data removed]",
      "text/plain": [
       "<Figure size 640x480 with 1 Axes>"
      ]
     },
     "metadata": {},
     "output_type": "display_data"
    },
    {
     "data": {
      "text/plain": [
       "Date\n",
       "1999-08-10    0.111111\n",
       "1999-08-11   -0.072500\n",
       "1999-08-12    0.024259\n",
       "1999-08-13   -0.026316\n",
       "1999-08-16    0.027027\n",
       "Name: Change, dtype: float64"
      ]
     },
     "metadata": {},
     "output_type": "display_data"
    },
    {
     "name": "stdout",
     "output_type": "stream",
     "text": [
      "pred: 1.272 % \n",
      "Statistical Prediction Results:\n",
      "[ 0.0089963   0.00165685  0.01632798  0.00590773 -0.00160794 -0.00149091\n",
      "  0.0065294   0.0019788   0.00248037  0.02208073 -0.01342171  0.0058981\n",
      "  0.00544566  0.00137022  0.00087233  0.00446746 -0.01185116 -0.02340435\n",
      "  0.02063365  0.02064518  0.00029578  0.00525219 -0.00100161  0.01104175\n",
      "  0.01286579 -0.02612835 -0.00572543  0.00933468 -0.00797078 -0.01418022]\n"
     ]
    }
   ],
   "source": [
    "# Define your PatternFinder class here (with the modifications)\n",
    "\n",
    "# Create an instance of the PatternFinder class\n",
    "pattern_finder = PatternFinder()\n",
    "\n",
    "# Set the stock code you want to analyze (for example, Samsung Electronics)\n",
    "stock_code = \"005930\"  # Replace with the KOSPI stock code you want to analyze\n",
    "pattern_finder.set_stock(stock_code)\n",
    "\n",
    "# Define your start_date and end_date as datetime objects\n",
    "start_date = pd.to_datetime(\"2019-07-22\")\n",
    "end_date = pd.to_datetime(\"2019-08-12\")\n",
    "\n",
    "# Perform similarity search using KOSPI data as the base\n",
    "cosine_sims = pattern_finder.search(start_date, end_date, threshold=0.98)\n",
    "\n",
    "# Print the results or perform further analysis\n",
    "print(\"Similarity Results:\")\n",
    "print(cosine_sims)\n",
    "\n",
    "# Plot a similar pattern (you can replace 0 with the index you want to plot)\n",
    "pattern_finder.plot_pattern(0)\n",
    "\n",
    "# Perform statistical prediction based on the results\n",
    "period = 5\n",
    "mean_list = pattern_finder.stat_prediction(cosine_sims, period)\n",
    "print(\"Statistical Prediction Results:\")\n",
    "print(mean_list)\n"
   ]
  },
  {
   "cell_type": "code",
   "execution_count": 21,
   "id": "a89d4d86-9c25-4edb-bc18-9ff147ccc8b2",
   "metadata": {},
   "outputs": [
    {
     "name": "stdout",
     "output_type": "stream",
     "text": [
      "실제수익률: -7.627000000000001 % \n"
     ]
    }
   ],
   "source": [
    "real_profit_calculator = RealProfit(pattern_finder)\n",
    "real_profit = real_profit_calculator.calculate_profit()"
   ]
  },
  {
   "cell_type": "code",
   "execution_count": null,
   "id": "08b7f5f9-aed6-4045-957e-0c5c692e0e8e",
   "metadata": {},
   "outputs": [],
   "source": []
  }
 ],
 "metadata": {
  "kernelspec": {
   "display_name": "Python 3 (ipykernel)",
   "language": "python",
   "name": "python3"
  },
  "language_info": {
   "codemirror_mode": {
    "name": "ipython",
    "version": 3
   },
   "file_extension": ".py",
   "mimetype": "text/x-python",
   "name": "python",
   "nbconvert_exporter": "python",
   "pygments_lexer": "ipython3",
   "version": "3.8.18"
  }
 },
 "nbformat": 4,
 "nbformat_minor": 5
}
